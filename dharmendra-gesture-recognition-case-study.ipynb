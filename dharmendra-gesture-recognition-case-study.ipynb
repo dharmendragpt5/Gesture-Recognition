{
 "cells": [
  {
   "cell_type": "code",
   "execution_count": 1,
   "id": "43932993",
   "metadata": {
    "execution": {
     "iopub.execute_input": "2023-02-05T19:03:53.400879Z",
     "iopub.status.busy": "2023-02-05T19:03:53.400133Z",
     "iopub.status.idle": "2023-02-05T19:03:54.415188Z",
     "shell.execute_reply": "2023-02-05T19:03:54.413859Z"
    },
    "papermill": {
     "duration": 1.03024,
     "end_time": "2023-02-05T19:03:54.418153",
     "exception": false,
     "start_time": "2023-02-05T19:03:53.387913",
     "status": "completed"
    },
    "tags": []
   },
   "outputs": [
    {
     "name": "stdout",
     "output_type": "stream",
     "text": [
      "Sun Feb  5 19:03:54 2023       \r\n",
      "+-----------------------------------------------------------------------------+\r\n",
      "| NVIDIA-SMI 470.82.01    Driver Version: 470.82.01    CUDA Version: 11.4     |\r\n",
      "|-------------------------------+----------------------+----------------------+\r\n",
      "| GPU  Name        Persistence-M| Bus-Id        Disp.A | Volatile Uncorr. ECC |\r\n",
      "| Fan  Temp  Perf  Pwr:Usage/Cap|         Memory-Usage | GPU-Util  Compute M. |\r\n",
      "|                               |                      |               MIG M. |\r\n",
      "|===============================+======================+======================|\r\n",
      "|   0  Tesla P100-PCIE...  Off  | 00000000:00:04.0 Off |                    0 |\r\n",
      "| N/A   34C    P0    28W / 250W |      0MiB / 16280MiB |      0%      Default |\r\n",
      "|                               |                      |                  N/A |\r\n",
      "+-------------------------------+----------------------+----------------------+\r\n",
      "                                                                               \r\n",
      "+-----------------------------------------------------------------------------+\r\n",
      "| Processes:                                                                  |\r\n",
      "|  GPU   GI   CI        PID   Type   Process name                  GPU Memory |\r\n",
      "|        ID   ID                                                   Usage      |\r\n",
      "|=============================================================================|\r\n",
      "|  No running processes found                                                 |\r\n",
      "+-----------------------------------------------------------------------------+\r\n"
     ]
    }
   ],
   "source": [
    "## Checking the GPU configuration\n",
    "\n",
    "!nvidia-smi"
   ]
  },
  {
   "cell_type": "code",
   "execution_count": 2,
   "id": "6d69275f",
   "metadata": {
    "_cell_guid": "b1076dfc-b9ad-4769-8c92-a6c4dae69d19",
    "_uuid": "8f2839f25d086af736a60e9eeb907d3b93b6e0e5",
    "execution": {
     "iopub.execute_input": "2023-02-05T19:03:54.450933Z",
     "iopub.status.busy": "2023-02-05T19:03:54.450164Z",
     "iopub.status.idle": "2023-02-05T19:03:55.712476Z",
     "shell.execute_reply": "2023-02-05T19:03:55.711578Z"
    },
    "papermill": {
     "duration": 1.281371,
     "end_time": "2023-02-05T19:03:55.715139",
     "exception": false,
     "start_time": "2023-02-05T19:03:54.433768",
     "status": "completed"
    },
    "tags": []
   },
   "outputs": [],
   "source": [
    "import numpy as np\n",
    "import os\n",
    "from skimage.transform import resize\n",
    "from imageio import imread\n",
    "import datetime\n",
    "import os\n",
    "import matplotlib.pyplot as plt\n",
    "import warnings\n",
    "warnings.filterwarnings('ignore')"
   ]
  },
  {
   "cell_type": "code",
   "execution_count": 3,
   "id": "30a009d5",
   "metadata": {
    "execution": {
     "iopub.execute_input": "2023-02-05T19:03:55.737597Z",
     "iopub.status.busy": "2023-02-05T19:03:55.736919Z",
     "iopub.status.idle": "2023-02-05T19:04:00.120097Z",
     "shell.execute_reply": "2023-02-05T19:04:00.119097Z"
    },
    "papermill": {
     "duration": 4.398021,
     "end_time": "2023-02-05T19:04:00.122956",
     "exception": false,
     "start_time": "2023-02-05T19:03:55.724935",
     "status": "completed"
    },
    "tags": []
   },
   "outputs": [],
   "source": [
    "np.random.seed(30)\n",
    "import random as rn\n",
    "rn.seed(30)\n",
    "from keras import backend as K\n",
    "import tensorflow as tf\n",
    "tf.random.set_seed(30)"
   ]
  },
  {
   "cell_type": "code",
   "execution_count": 4,
   "id": "74bbe7de",
   "metadata": {
    "execution": {
     "iopub.execute_input": "2023-02-05T19:04:00.143411Z",
     "iopub.status.busy": "2023-02-05T19:04:00.142901Z",
     "iopub.status.idle": "2023-02-05T19:04:02.316095Z",
     "shell.execute_reply": "2023-02-05T19:04:02.314776Z"
    },
    "papermill": {
     "duration": 2.186283,
     "end_time": "2023-02-05T19:04:02.318954",
     "exception": false,
     "start_time": "2023-02-05T19:04:00.132671",
     "status": "completed"
    },
    "tags": []
   },
   "outputs": [
    {
     "name": "stdout",
     "output_type": "stream",
     "text": [
      "Found GPU at: /device:GPU:0\n"
     ]
    },
    {
     "name": "stderr",
     "output_type": "stream",
     "text": [
      "2023-02-05 19:04:00.146049: I tensorflow/core/platform/cpu_feature_guard.cc:142] This TensorFlow binary is optimized with oneAPI Deep Neural Network Library (oneDNN) to use the following CPU instructions in performance-critical operations:  AVX2 AVX512F FMA\n",
      "To enable them in other operations, rebuild TensorFlow with the appropriate compiler flags.\n",
      "2023-02-05 19:04:00.213697: I tensorflow/stream_executor/cuda/cuda_gpu_executor.cc:937] successful NUMA node read from SysFS had negative value (-1), but there must be at least one NUMA node, so returning NUMA node zero\n",
      "2023-02-05 19:04:00.295484: I tensorflow/stream_executor/cuda/cuda_gpu_executor.cc:937] successful NUMA node read from SysFS had negative value (-1), but there must be at least one NUMA node, so returning NUMA node zero\n",
      "2023-02-05 19:04:00.296277: I tensorflow/stream_executor/cuda/cuda_gpu_executor.cc:937] successful NUMA node read from SysFS had negative value (-1), but there must be at least one NUMA node, so returning NUMA node zero\n",
      "2023-02-05 19:04:02.303675: I tensorflow/stream_executor/cuda/cuda_gpu_executor.cc:937] successful NUMA node read from SysFS had negative value (-1), but there must be at least one NUMA node, so returning NUMA node zero\n",
      "2023-02-05 19:04:02.304570: I tensorflow/stream_executor/cuda/cuda_gpu_executor.cc:937] successful NUMA node read from SysFS had negative value (-1), but there must be at least one NUMA node, so returning NUMA node zero\n",
      "2023-02-05 19:04:02.305324: I tensorflow/stream_executor/cuda/cuda_gpu_executor.cc:937] successful NUMA node read from SysFS had negative value (-1), but there must be at least one NUMA node, so returning NUMA node zero\n",
      "2023-02-05 19:04:02.305968: I tensorflow/core/common_runtime/gpu/gpu_device.cc:1510] Created device /device:GPU:0 with 15401 MB memory:  -> device: 0, name: Tesla P100-PCIE-16GB, pci bus id: 0000:00:04.0, compute capability: 6.0\n"
     ]
    }
   ],
   "source": [
    "device_name = tf.test.gpu_device_name()\n",
    "if \"GPU\" not in device_name:\n",
    "    print(\"GPU device not found\")\n",
    "else:\n",
    "    print('Found GPU at: {}'.format(device_name))"
   ]
  },
  {
   "cell_type": "markdown",
   "id": "bdf5ecd9",
   "metadata": {
    "papermill": {
     "duration": 0.009208,
     "end_time": "2023-02-05T19:04:02.337960",
     "exception": false,
     "start_time": "2023-02-05T19:04:02.328752",
     "status": "completed"
    },
    "tags": []
   },
   "source": [
    "In this block, you read the folder names for training and validation. You also set the batch_size here. Note that you set the batch size in such a way that you are able to use the GPU in full capacity. You keep increasing the batch size until the machine throws an error.\n"
   ]
  },
  {
   "cell_type": "code",
   "execution_count": 5,
   "id": "5dd42a96",
   "metadata": {
    "execution": {
     "iopub.execute_input": "2023-02-05T19:04:02.358183Z",
     "iopub.status.busy": "2023-02-05T19:04:02.357881Z",
     "iopub.status.idle": "2023-02-05T19:04:02.372149Z",
     "shell.execute_reply": "2023-02-05T19:04:02.371264Z"
    },
    "papermill": {
     "duration": 0.026584,
     "end_time": "2023-02-05T19:04:02.374118",
     "exception": false,
     "start_time": "2023-02-05T19:04:02.347534",
     "status": "completed"
    },
    "tags": []
   },
   "outputs": [],
   "source": [
    "train_doc = np.random.permutation(open('../input/gesturerecognition/Project_data/train.csv').readlines())\n",
    "val_doc = np.random.permutation(open('../input/gesturerecognition/Project_data/val.csv').readlines())\n",
    "batch_size = 64"
   ]
  },
  {
   "cell_type": "code",
   "execution_count": 6,
   "id": "2205aa67",
   "metadata": {
    "execution": {
     "iopub.execute_input": "2023-02-05T19:04:02.393856Z",
     "iopub.status.busy": "2023-02-05T19:04:02.393534Z",
     "iopub.status.idle": "2023-02-05T19:04:02.399850Z",
     "shell.execute_reply": "2023-02-05T19:04:02.398927Z"
    },
    "papermill": {
     "duration": 0.018421,
     "end_time": "2023-02-05T19:04:02.401792",
     "exception": false,
     "start_time": "2023-02-05T19:04:02.383371",
     "status": "completed"
    },
    "tags": []
   },
   "outputs": [],
   "source": [
    "# function to plot the training/validation accuracies/losses.\n",
    "\n",
    "def plot(history):\n",
    "    fig, axes = plt.subplots(nrows=1, ncols=2, figsize=(15,4))\n",
    "    axes[0].plot(history.history['loss'])   \n",
    "    axes[0].plot(history.history['val_loss'])\n",
    "    axes[0].grid()\n",
    "    axes[0].legend(['loss','val_loss'])\n",
    "    axes[1].plot(history.history['categorical_accuracy'])   \n",
    "    axes[1].plot(history.history['val_categorical_accuracy'])\n",
    "    axes[1].grid()\n",
    "    axes[1].legend(['categorical_accuracy','val_categorical_accuracy'])"
   ]
  },
  {
   "cell_type": "markdown",
   "id": "f86366d3",
   "metadata": {
    "papermill": {
     "duration": 0.009063,
     "end_time": "2023-02-05T19:04:02.420144",
     "exception": false,
     "start_time": "2023-02-05T19:04:02.411081",
     "status": "completed"
    },
    "tags": []
   },
   "source": [
    "# Generator\n",
    "\n",
    "This is one of the most important part of the code. The overall structure of the generator has been given. In the generator, you are going to preprocess the images as you have images of 2 different dimensions as well as create a batch of video frames. You have to experiment with img_idx, y,z and normalization such that you get high accuracy."
   ]
  },
  {
   "cell_type": "code",
   "execution_count": 7,
   "id": "b7af549e",
   "metadata": {
    "execution": {
     "iopub.execute_input": "2023-02-05T19:04:02.439764Z",
     "iopub.status.busy": "2023-02-05T19:04:02.439488Z",
     "iopub.status.idle": "2023-02-05T19:04:02.444564Z",
     "shell.execute_reply": "2023-02-05T19:04:02.443492Z"
    },
    "papermill": {
     "duration": 0.017636,
     "end_time": "2023-02-05T19:04:02.446900",
     "exception": false,
     "start_time": "2023-02-05T19:04:02.429264",
     "status": "completed"
    },
    "tags": []
   },
   "outputs": [],
   "source": [
    "def cropResize(image, y, z):\n",
    "    h, w = image.shape\n",
    "    \n",
    "    # if smaller image crop at center for 120x120\n",
    "    if w == 160:\n",
    "        image = image[:120, 20:140]\n",
    "\n",
    "    # resize every image\n",
    "    return resize(image, (y,z))"
   ]
  },
  {
   "cell_type": "code",
   "execution_count": 8,
   "id": "adbf5034",
   "metadata": {
    "execution": {
     "iopub.execute_input": "2023-02-05T19:04:02.466806Z",
     "iopub.status.busy": "2023-02-05T19:04:02.466522Z",
     "iopub.status.idle": "2023-02-05T19:04:02.471125Z",
     "shell.execute_reply": "2023-02-05T19:04:02.470265Z"
    },
    "papermill": {
     "duration": 0.017012,
     "end_time": "2023-02-05T19:04:02.473193",
     "exception": false,
     "start_time": "2023-02-05T19:04:02.456181",
     "status": "completed"
    },
    "tags": []
   },
   "outputs": [],
   "source": [
    "def normalizeImage(image):\n",
    "    # applying normalization\n",
    "    return image/255.0"
   ]
  },
  {
   "cell_type": "code",
   "execution_count": 9,
   "id": "01078d13",
   "metadata": {
    "execution": {
     "iopub.execute_input": "2023-02-05T19:04:02.492759Z",
     "iopub.status.busy": "2023-02-05T19:04:02.492488Z",
     "iopub.status.idle": "2023-02-05T19:04:02.496931Z",
     "shell.execute_reply": "2023-02-05T19:04:02.495903Z"
    },
    "papermill": {
     "duration": 0.016871,
     "end_time": "2023-02-05T19:04:02.499251",
     "exception": false,
     "start_time": "2023-02-05T19:04:02.482380",
     "status": "completed"
    },
    "tags": []
   },
   "outputs": [],
   "source": [
    "def preprocessImage(image, y, z):\n",
    "    return normalizeImage(cropResize(image, y, z))"
   ]
  },
  {
   "cell_type": "code",
   "execution_count": 10,
   "id": "42c74c11",
   "metadata": {
    "execution": {
     "iopub.execute_input": "2023-02-05T19:04:02.519366Z",
     "iopub.status.busy": "2023-02-05T19:04:02.518632Z",
     "iopub.status.idle": "2023-02-05T19:04:02.523346Z",
     "shell.execute_reply": "2023-02-05T19:04:02.522464Z"
    },
    "papermill": {
     "duration": 0.016952,
     "end_time": "2023-02-05T19:04:02.525488",
     "exception": false,
     "start_time": "2023-02-05T19:04:02.508536",
     "status": "completed"
    },
    "tags": []
   },
   "outputs": [],
   "source": [
    "def make3dFilter(x):\n",
    "    return tuple([x]*3)\n",
    "\n",
    "def make2dFilter(x):\n",
    "    return tuple([x]*2)"
   ]
  },
  {
   "cell_type": "code",
   "execution_count": 11,
   "id": "437d94d5",
   "metadata": {
    "execution": {
     "iopub.execute_input": "2023-02-05T19:04:02.545681Z",
     "iopub.status.busy": "2023-02-05T19:04:02.544907Z",
     "iopub.status.idle": "2023-02-05T19:04:02.554422Z",
     "shell.execute_reply": "2023-02-05T19:04:02.553530Z"
    },
    "papermill": {
     "duration": 0.021562,
     "end_time": "2023-02-05T19:04:02.556396",
     "exception": false,
     "start_time": "2023-02-05T19:04:02.534834",
     "status": "completed"
    },
    "tags": []
   },
   "outputs": [],
   "source": [
    "def getBatchData(source_path, t, batch, batch_size, img_tensor):\n",
    "    [x,y,z] = [len(img_tensor[0]),img_tensor[1], img_tensor[2]]\n",
    "    img_idx = img_tensor[0]\n",
    "    batch_data = np.zeros((batch_size,x,y,z,3)) # x is the number of images you use for each video, (y,z) is the final size of the input images and 3 is the number of channels RGB\n",
    "    batch_labels = np.zeros((batch_size,5)) # batch_labels is the one hot representation of the output\n",
    "    for folder in range(batch_size): # iterate over the batch_size\n",
    "        imgs = os.listdir(source_path+'/'+ t[folder + (batch*batch_size)].split(';')[0]) # read all the images in the folder\n",
    "        for idx,item in enumerate(img_idx): #  Iterate iver the frames/images of a folder to read them in\n",
    "            image = imread(source_path+'/'+ t[folder + (batch*batch_size)].strip().split(';')[0]+'/'+imgs[item]).astype(np.float32)\n",
    "\n",
    "            #crop the images and resize them. Note that the images are of 2 different shape \n",
    "            #and the conv3D will throw error if the inputs in a batch have different shapes\n",
    "\n",
    "            # separate preprocessImage function is defined for cropping, resizing and normalizing images\n",
    "            batch_data[folder,idx,:,:,0] = preprocessImage(image[:, :, 0], y, z)\n",
    "            batch_data[folder,idx,:,:,1] = preprocessImage(image[:, :, 1], y, z)\n",
    "            batch_data[folder,idx,:,:,2] = preprocessImage(image[:, :, 2], y, z)\n",
    "\n",
    "        batch_labels[folder, int(t[folder + (batch*batch_size)].strip().split(';')[2])] = 1\n",
    "    return batch_data, batch_labels"
   ]
  },
  {
   "cell_type": "code",
   "execution_count": 12,
   "id": "cead99dc",
   "metadata": {
    "execution": {
     "iopub.execute_input": "2023-02-05T19:04:02.576815Z",
     "iopub.status.busy": "2023-02-05T19:04:02.576067Z",
     "iopub.status.idle": "2023-02-05T19:04:02.582295Z",
     "shell.execute_reply": "2023-02-05T19:04:02.581450Z"
    },
    "papermill": {
     "duration": 0.018552,
     "end_time": "2023-02-05T19:04:02.584247",
     "exception": false,
     "start_time": "2023-02-05T19:04:02.565695",
     "status": "completed"
    },
    "tags": []
   },
   "outputs": [],
   "source": [
    "def generator(source_path, folder_list, batch_size, img_tensor):\n",
    "    print( 'Source path = ', source_path, '; batch size =', batch_size)\n",
    "    while True:\n",
    "        t = np.random.permutation(folder_list)\n",
    "        num_batches = int(len(folder_list)/batch_size)\n",
    "        for batch in range(num_batches): # we iterate over the number of batches\n",
    "            yield getBatchData(source_path, t, batch, batch_size, img_tensor)\n",
    "        \n",
    "        # write the code for the remaining data points which are left after full batches\n",
    "        # checking if any remaining batches are there or not\n",
    "        if len(folder_list)%batch_size != 0:\n",
    "            # updated the batch size and yield\n",
    "            batch_size = len(folder_list)%batch_size\n",
    "            yield getBatchData(source_path, t, batch, batch_size, img_tensor)"
   ]
  },
  {
   "cell_type": "markdown",
   "id": "237d2658",
   "metadata": {
    "papermill": {
     "duration": 0.009249,
     "end_time": "2023-02-05T19:04:02.602813",
     "exception": false,
     "start_time": "2023-02-05T19:04:02.593564",
     "status": "completed"
    },
    "tags": []
   },
   "source": [
    "Note here that a video is represented above in the generator as (number of images, height, width, number of channels). Take this into consideration while creating the model architecture."
   ]
  },
  {
   "cell_type": "code",
   "execution_count": 13,
   "id": "8b85fd12",
   "metadata": {
    "execution": {
     "iopub.execute_input": "2023-02-05T19:04:02.623036Z",
     "iopub.status.busy": "2023-02-05T19:04:02.622164Z",
     "iopub.status.idle": "2023-02-05T19:04:02.628938Z",
     "shell.execute_reply": "2023-02-05T19:04:02.627572Z"
    },
    "papermill": {
     "duration": 0.019154,
     "end_time": "2023-02-05T19:04:02.631389",
     "exception": false,
     "start_time": "2023-02-05T19:04:02.612235",
     "status": "completed"
    },
    "tags": []
   },
   "outputs": [
    {
     "name": "stdout",
     "output_type": "stream",
     "text": [
      "# training sequences = 663\n",
      "# validation sequences = 100\n",
      "# epochs = 10\n"
     ]
    }
   ],
   "source": [
    "curr_dt_time = datetime.datetime.now()\n",
    "train_path = '../input/gesturerecognition/Project_data/train'\n",
    "val_path = '../input/gesturerecognition/Project_data/val'\n",
    "num_train_sequences = len(train_doc)\n",
    "print('# training sequences =', num_train_sequences)\n",
    "num_val_sequences = len(val_doc)\n",
    "print('# validation sequences =', num_val_sequences)\n",
    "num_epochs = 10\n",
    "print ('# epochs =', num_epochs)"
   ]
  },
  {
   "cell_type": "code",
   "execution_count": 14,
   "id": "aefc0be2",
   "metadata": {
    "execution": {
     "iopub.execute_input": "2023-02-05T19:04:02.651468Z",
     "iopub.status.busy": "2023-02-05T19:04:02.651211Z",
     "iopub.status.idle": "2023-02-05T19:04:02.657949Z",
     "shell.execute_reply": "2023-02-05T19:04:02.656996Z"
    },
    "papermill": {
     "duration": 0.019672,
     "end_time": "2023-02-05T19:04:02.660731",
     "exception": false,
     "start_time": "2023-02-05T19:04:02.641059",
     "status": "completed"
    },
    "tags": []
   },
   "outputs": [
    {
     "name": "stdout",
     "output_type": "stream",
     "text": [
      "# img_tensor = [array([ 0,  2,  3,  5,  6,  8,  9, 11, 12, 14, 15, 17, 18, 20, 21, 23, 24,\n",
      "       26, 27, 29]), 100, 100, 3]\n"
     ]
    }
   ],
   "source": [
    "def getImgTensor(n_frames):\n",
    "    img_idx = np.round(np.linspace(0, 29, n_frames)).astype(int)\n",
    "    return [img_idx, 100, 100, 3]\n",
    "\n",
    "# define image tensor size\n",
    "img_tensor = getImgTensor(20)\n",
    "print ('# img_tensor =', img_tensor)"
   ]
  },
  {
   "cell_type": "markdown",
   "id": "e1a9ba16",
   "metadata": {
    "papermill": {
     "duration": 0.009681,
     "end_time": "2023-02-05T19:04:02.681192",
     "exception": false,
     "start_time": "2023-02-05T19:04:02.671511",
     "status": "completed"
    },
    "tags": []
   },
   "source": [
    "Generator Validation"
   ]
  },
  {
   "cell_type": "code",
   "execution_count": 15,
   "id": "fa1f6c05",
   "metadata": {
    "execution": {
     "iopub.execute_input": "2023-02-05T19:04:02.700845Z",
     "iopub.status.busy": "2023-02-05T19:04:02.700556Z",
     "iopub.status.idle": "2023-02-05T19:04:28.381289Z",
     "shell.execute_reply": "2023-02-05T19:04:28.380206Z"
    },
    "papermill": {
     "duration": 25.693028,
     "end_time": "2023-02-05T19:04:28.383563",
     "exception": false,
     "start_time": "2023-02-05T19:04:02.690535",
     "status": "completed"
    },
    "tags": []
   },
   "outputs": [
    {
     "name": "stdout",
     "output_type": "stream",
     "text": [
      "Source path =  ../input/gesturerecognition/Project_data/train ; batch size = 64\n",
      "(64, 20, 100, 100, 3)\n",
      "Source path =  ../input/gesturerecognition/Project_data/val ; batch size = 64\n",
      "(64, 20, 100, 100, 3)\n"
     ]
    }
   ],
   "source": [
    "# check complete batch shape\n",
    "sample_generator = generator(train_path, train_doc, batch_size, img_tensor)\n",
    "sample_batch_data, sample_batch_labels = next(sample_generator)\n",
    "print(sample_batch_data.shape)\n",
    "\n",
    "# validation batch sample\n",
    "sample_val_generator = generator(val_path, val_doc, batch_size, img_tensor)\n",
    "sample_val_batch_data, sample_val_batch_labels = next(sample_val_generator)\n",
    "print(sample_val_batch_data.shape)"
   ]
  },
  {
   "cell_type": "code",
   "execution_count": 16,
   "id": "3d8714f3",
   "metadata": {
    "execution": {
     "iopub.execute_input": "2023-02-05T19:04:28.405733Z",
     "iopub.status.busy": "2023-02-05T19:04:28.404259Z",
     "iopub.status.idle": "2023-02-05T19:04:28.696356Z",
     "shell.execute_reply": "2023-02-05T19:04:28.695330Z"
    },
    "papermill": {
     "duration": 0.305786,
     "end_time": "2023-02-05T19:04:28.699369",
     "exception": false,
     "start_time": "2023-02-05T19:04:28.393583",
     "status": "completed"
    },
    "tags": []
   },
   "outputs": [
    {
     "data": {
      "image/png": "[encoded data removed]",
      "text/plain": [
       "<Figure size 432x288 with 2 Axes>"
      ]
     },
     "metadata": {
      "needs_background": "light"
     },
     "output_type": "display_data"
    }
   ],
   "source": [
    "# plot generated sample images\n",
    "fig, ax = plt.subplots(1,2)\n",
    "ax[0].imshow(sample_val_batch_data[0,1,:,:,:])\n",
    "ax[1].imshow(sample_val_batch_data[0,3,:,:,:])\n",
    "\n",
    "\n",
    "plt.show()"
   ]
  },
  {
   "cell_type": "code",
   "execution_count": 17,
   "id": "5dc04c78",
   "metadata": {
    "execution": {
     "iopub.execute_input": "2023-02-05T19:04:28.722268Z",
     "iopub.status.busy": "2023-02-05T19:04:28.721940Z",
     "iopub.status.idle": "2023-02-05T19:04:28.728966Z",
     "shell.execute_reply": "2023-02-05T19:04:28.727961Z"
    },
    "papermill": {
     "duration": 0.020987,
     "end_time": "2023-02-05T19:04:28.731329",
     "exception": false,
     "start_time": "2023-02-05T19:04:28.710342",
     "status": "completed"
    },
    "tags": []
   },
   "outputs": [],
   "source": [
    "def plotModelHistory(h):\n",
    "    fig, ax = plt.subplots(1, 2, figsize=(15,4))\n",
    "    ax[0].plot(h.history['loss'])   \n",
    "    ax[0].plot(h.history['val_loss'])\n",
    "    ax[0].legend(['loss','val_loss'])\n",
    "    ax[0].title.set_text(\"Train loss vs Validation loss\")\n",
    "\n",
    "    ax[1].plot(h.history['categorical_accuracy'])   \n",
    "    ax[1].plot(h.history['val_categorical_accuracy'])\n",
    "    ax[1].legend(['categorical_accuracy','val_categorical_accuracy'])\n",
    "    ax[1].title.set_text(\"Train accuracy vs Validation accuracy\")\n",
    "    plt.show()\n",
    "\n",
    "    print(\"Max. Training Accuracy\", max(h.history['categorical_accuracy']))\n",
    "    print(\"Max. Validaiton Accuracy\", max(h.history['val_categorical_accuracy']))"
   ]
  },
  {
   "cell_type": "markdown",
   "id": "892ed7af",
   "metadata": {
    "papermill": {
     "duration": 0.010628,
     "end_time": "2023-02-05T19:04:28.752537",
     "exception": false,
     "start_time": "2023-02-05T19:04:28.741909",
     "status": "completed"
    },
    "tags": []
   },
   "source": [
    "\n",
    "# Model Building\n",
    "\n",
    "Here you make the model using different functionalities that Keras provides. Remember to use Conv3D and MaxPooling3D and not Conv2D and Maxpooling2D for a 3D convolution model. You would want to use TimeDistributed while building a Conv2D + RNN model. Also remember that the last layer is the softmax. Design the network in such a way that the model is able to give good accuracy on the least number of parameters so that it can fit in the memory of the webcam.\n"
   ]
  },
  {
   "cell_type": "code",
   "execution_count": 18,
   "id": "e5df0bfe",
   "metadata": {
    "execution": {
     "iopub.execute_input": "2023-02-05T19:04:28.774878Z",
     "iopub.status.busy": "2023-02-05T19:04:28.774575Z",
     "iopub.status.idle": "2023-02-05T19:04:28.780276Z",
     "shell.execute_reply": "2023-02-05T19:04:28.779335Z"
    },
    "papermill": {
     "duration": 0.019216,
     "end_time": "2023-02-05T19:04:28.782210",
     "exception": false,
     "start_time": "2023-02-05T19:04:28.762994",
     "status": "completed"
    },
    "tags": []
   },
   "outputs": [],
   "source": [
    "from keras.models import Sequential, Model\n",
    "from keras.layers import Dense, GRU, Flatten, TimeDistributed, Flatten, BatchNormalization, Activation, Dropout, LSTM\n",
    "from keras.layers.convolutional import Conv3D, MaxPooling3D, Conv2D, MaxPooling2D\n",
    "from keras.callbacks import ModelCheckpoint, ReduceLROnPlateau\n",
    "from keras.callbacks import ModelCheckpoint, ReduceLROnPlateau, EarlyStopping\n",
    "from keras import optimizers\n",
    "from tensorflow import keras\n",
    "from keras.layers import Dropout\n",
    "import tensorflow as tf "
   ]
  },
  {
   "cell_type": "markdown",
   "id": "00acf2de",
   "metadata": {
    "papermill": {
     "duration": 0.010286,
     "end_time": "2023-02-05T19:04:28.803039",
     "exception": false,
     "start_time": "2023-02-05T19:04:28.792753",
     "status": "completed"
    },
    "tags": []
   },
   "source": [
    "# Base Model"
   ]
  },
  {
   "cell_type": "code",
   "execution_count": 19,
   "id": "89842469",
   "metadata": {
    "execution": {
     "iopub.execute_input": "2023-02-05T19:04:28.825244Z",
     "iopub.status.busy": "2023-02-05T19:04:28.824924Z",
     "iopub.status.idle": "2023-02-05T19:04:29.606325Z",
     "shell.execute_reply": "2023-02-05T19:04:29.604299Z"
    },
    "papermill": {
     "duration": 0.795026,
     "end_time": "2023-02-05T19:04:29.608550",
     "exception": false,
     "start_time": "2023-02-05T19:04:28.813524",
     "status": "completed"
    },
    "tags": []
   },
   "outputs": [
    {
     "name": "stderr",
     "output_type": "stream",
     "text": [
      "2023-02-05 19:04:28.859532: I tensorflow/stream_executor/cuda/cuda_gpu_executor.cc:937] successful NUMA node read from SysFS had negative value (-1), but there must be at least one NUMA node, so returning NUMA node zero\n",
      "2023-02-05 19:04:28.860435: I tensorflow/stream_executor/cuda/cuda_gpu_executor.cc:937] successful NUMA node read from SysFS had negative value (-1), but there must be at least one NUMA node, so returning NUMA node zero\n",
      "2023-02-05 19:04:28.861086: I tensorflow/stream_executor/cuda/cuda_gpu_executor.cc:937] successful NUMA node read from SysFS had negative value (-1), but there must be at least one NUMA node, so returning NUMA node zero\n",
      "2023-02-05 19:04:28.861988: I tensorflow/stream_executor/cuda/cuda_gpu_executor.cc:937] successful NUMA node read from SysFS had negative value (-1), but there must be at least one NUMA node, so returning NUMA node zero\n",
      "2023-02-05 19:04:28.862662: I tensorflow/stream_executor/cuda/cuda_gpu_executor.cc:937] successful NUMA node read from SysFS had negative value (-1), but there must be at least one NUMA node, so returning NUMA node zero\n",
      "2023-02-05 19:04:28.863281: I tensorflow/stream_executor/cuda/cuda_gpu_executor.cc:937] successful NUMA node read from SysFS had negative value (-1), but there must be at least one NUMA node, so returning NUMA node zero\n",
      "2023-02-05 19:04:28.864003: I tensorflow/stream_executor/cuda/cuda_gpu_executor.cc:937] successful NUMA node read from SysFS had negative value (-1), but there must be at least one NUMA node, so returning NUMA node zero\n",
      "2023-02-05 19:04:28.864684: I tensorflow/stream_executor/cuda/cuda_gpu_executor.cc:937] successful NUMA node read from SysFS had negative value (-1), but there must be at least one NUMA node, so returning NUMA node zero\n",
      "2023-02-05 19:04:28.865253: I tensorflow/core/common_runtime/gpu/gpu_device.cc:1510] Created device /job:localhost/replica:0/task:0/device:GPU:0 with 15401 MB memory:  -> device: 0, name: Tesla P100-PCIE-16GB, pci bus id: 0000:00:04.0, compute capability: 6.0\n"
     ]
    },
    {
     "name": "stdout",
     "output_type": "stream",
     "text": [
      "Model: \"sequential\"\n",
      "_________________________________________________________________\n",
      "Layer (type)                 Output Shape              Param #   \n",
      "=================================================================\n",
      "conv3d (Conv3D)              (None, 16, 96, 96, 16)    6016      \n",
      "_________________________________________________________________\n",
      "max_pooling3d (MaxPooling3D) (None, 8, 48, 48, 16)     0         \n",
      "_________________________________________________________________\n",
      "batch_normalization (BatchNo (None, 8, 48, 48, 16)     64        \n",
      "_________________________________________________________________\n",
      "conv3d_1 (Conv3D)            (None, 6, 46, 46, 32)     13856     \n",
      "_________________________________________________________________\n",
      "max_pooling3d_1 (MaxPooling3 (None, 6, 23, 23, 32)     0         \n",
      "_________________________________________________________________\n",
      "batch_normalization_1 (Batch (None, 6, 23, 23, 32)     128       \n",
      "_________________________________________________________________\n",
      "conv3d_2 (Conv3D)            (None, 4, 21, 21, 64)     55360     \n",
      "_________________________________________________________________\n",
      "max_pooling3d_2 (MaxPooling3 (None, 4, 11, 11, 64)     0         \n",
      "_________________________________________________________________\n",
      "batch_normalization_2 (Batch (None, 4, 11, 11, 64)     256       \n",
      "_________________________________________________________________\n",
      "flatten (Flatten)            (None, 30976)             0         \n",
      "_________________________________________________________________\n",
      "dense (Dense)                (None, 128)               3965056   \n",
      "_________________________________________________________________\n",
      "batch_normalization_3 (Batch (None, 128)               512       \n",
      "_________________________________________________________________\n",
      "dropout (Dropout)            (None, 128)               0         \n",
      "_________________________________________________________________\n",
      "dense_1 (Dense)              (None, 64)                8256      \n",
      "_________________________________________________________________\n",
      "batch_normalization_4 (Batch (None, 64)                256       \n",
      "_________________________________________________________________\n",
      "dropout_1 (Dropout)          (None, 64)                0         \n",
      "_________________________________________________________________\n",
      "dense_2 (Dense)              (None, 5)                 325       \n",
      "=================================================================\n",
      "Total params: 4,050,085\n",
      "Trainable params: 4,049,477\n",
      "Non-trainable params: 608\n",
      "_________________________________________________________________\n"
     ]
    }
   ],
   "source": [
    "#write your model here\n",
    "\n",
    "def defineModel(img_tensor):\n",
    "    inputShape = (len(img_tensor[0]), img_tensor[1], img_tensor[2], img_tensor[3])\n",
    "\n",
    "    model = Sequential([\n",
    "        Conv3D(16, make3dFilter(5), activation='relu', input_shape=inputShape),\n",
    "        MaxPooling3D(make3dFilter(2), padding='same'),\n",
    "        BatchNormalization(),\n",
    "\n",
    "        Conv3D(32, make3dFilter(3), activation='relu'),\n",
    "        MaxPooling3D(pool_size=(1,2,2), padding='same'),\n",
    "        BatchNormalization(),\n",
    "\n",
    "        Conv3D(64, make3dFilter(3), activation='relu'),\n",
    "        MaxPooling3D(pool_size=(1,2,2), padding='same'),\n",
    "        BatchNormalization(),\n",
    "\n",
    "        Flatten(),\n",
    "        Dense(128, activation='relu'),\n",
    "        BatchNormalization(),\n",
    "        Dropout(0.25),\n",
    "\n",
    "        Dense(64, activation='relu'),\n",
    "        BatchNormalization(),\n",
    "        Dropout(0.25),\n",
    "\n",
    "        Dense(5, activation='softmax')\n",
    "    ])\n",
    "    model.compile(optimizer=tf.keras.optimizers.Adam(), loss='categorical_crossentropy', metrics=['categorical_accuracy'])\n",
    "    return model\n",
    "\n",
    "model = defineModel(img_tensor)\n",
    "model.summary()"
   ]
  },
  {
   "cell_type": "code",
   "execution_count": 20,
   "id": "a5b5e090",
   "metadata": {
    "execution": {
     "iopub.execute_input": "2023-02-05T19:04:29.632071Z",
     "iopub.status.busy": "2023-02-05T19:04:29.631249Z",
     "iopub.status.idle": "2023-02-05T19:04:29.635901Z",
     "shell.execute_reply": "2023-02-05T19:04:29.634915Z"
    },
    "papermill": {
     "duration": 0.018406,
     "end_time": "2023-02-05T19:04:29.637947",
     "exception": false,
     "start_time": "2023-02-05T19:04:29.619541",
     "status": "completed"
    },
    "tags": []
   },
   "outputs": [],
   "source": [
    "train_generator = generator(train_path, train_doc, batch_size, img_tensor)\n",
    "val_generator = generator(val_path, val_doc, batch_size, img_tensor)"
   ]
  },
  {
   "cell_type": "markdown",
   "id": "7cf495a4",
   "metadata": {
    "papermill": {
     "duration": 0.010637,
     "end_time": "2023-02-05T19:04:29.659267",
     "exception": false,
     "start_time": "2023-02-05T19:04:29.648630",
     "status": "completed"
    },
    "tags": []
   },
   "source": [
    "The steps_per_epoch and validation_steps are used by fit_generator to decide the number of next() calls it need to make.\n"
   ]
  },
  {
   "cell_type": "code",
   "execution_count": 21,
   "id": "7c622ac4",
   "metadata": {
    "execution": {
     "iopub.execute_input": "2023-02-05T19:04:29.681509Z",
     "iopub.status.busy": "2023-02-05T19:04:29.681249Z",
     "iopub.status.idle": "2023-02-05T19:04:29.686452Z",
     "shell.execute_reply": "2023-02-05T19:04:29.685433Z"
    },
    "papermill": {
     "duration": 0.018776,
     "end_time": "2023-02-05T19:04:29.688552",
     "exception": false,
     "start_time": "2023-02-05T19:04:29.669776",
     "status": "completed"
    },
    "tags": []
   },
   "outputs": [],
   "source": [
    "if (num_train_sequences%batch_size) == 0:\n",
    "    steps_per_epoch = int(num_train_sequences/batch_size)\n",
    "else:\n",
    "    steps_per_epoch = (num_train_sequences//batch_size) + 1\n",
    "\n",
    "if (num_val_sequences%batch_size) == 0:\n",
    "    validation_steps = int(num_val_sequences/batch_size)\n",
    "else:\n",
    "    validation_steps = (num_val_sequences//batch_size) + 1"
   ]
  },
  {
   "cell_type": "markdown",
   "id": "0642b3c9",
   "metadata": {
    "papermill": {
     "duration": 0.01053,
     "end_time": "2023-02-05T19:04:29.709964",
     "exception": false,
     "start_time": "2023-02-05T19:04:29.699434",
     "status": "completed"
    },
    "tags": []
   },
   "source": [
    "# Model Callbacks Setup"
   ]
  },
  {
   "cell_type": "code",
   "execution_count": 22,
   "id": "5753ac59",
   "metadata": {
    "execution": {
     "iopub.execute_input": "2023-02-05T19:04:29.732960Z",
     "iopub.status.busy": "2023-02-05T19:04:29.732689Z",
     "iopub.status.idle": "2023-02-05T19:04:29.739770Z",
     "shell.execute_reply": "2023-02-05T19:04:29.738909Z"
    },
    "papermill": {
     "duration": 0.020799,
     "end_time": "2023-02-05T19:04:29.741755",
     "exception": false,
     "start_time": "2023-02-05T19:04:29.720956",
     "status": "completed"
    },
    "tags": []
   },
   "outputs": [],
   "source": [
    "model_name = 'model_init' + '_' + str(curr_dt_time).replace(' ','').replace(':','_') + '/'\n",
    "    \n",
    "if not os.path.exists(model_name):\n",
    "    os.mkdir(model_name)\n",
    "\n",
    "filepath = model_name + 'model-{epoch:05d}-{loss:.5f}-{categorical_accuracy:.5f}-{val_loss:.5f}-{val_categorical_accuracy:.5f}.h5'\n",
    "\n",
    "checkpoint = ModelCheckpoint(filepath, monitor='val_loss', verbose=1, save_best_only=True, save_weights_only=False, mode='auto', period=1)\n",
    "\n",
    "LR = ReduceLROnPlateau(monitor='val_loss', factor=0.2, verbose=1, patience=4)\n",
    "\n",
    "earlystop = EarlyStopping( monitor=\"val_loss\", min_delta=0,patience=10,verbose=1)\n",
    "callbacks_list = [checkpoint, LR, earlystop]"
   ]
  },
  {
   "cell_type": "markdown",
   "id": "1f8db61b",
   "metadata": {
    "papermill": {
     "duration": 0.010472,
     "end_time": "2023-02-05T19:04:29.762887",
     "exception": false,
     "start_time": "2023-02-05T19:04:29.752415",
     "status": "completed"
    },
    "tags": []
   },
   "source": [
    "**Model 1 - Frames-16, Epoc-20**\n"
   ]
  },
  {
   "cell_type": "code",
   "execution_count": 23,
   "id": "482e9b45",
   "metadata": {
    "execution": {
     "iopub.execute_input": "2023-02-05T19:04:29.786281Z",
     "iopub.status.busy": "2023-02-05T19:04:29.785424Z",
     "iopub.status.idle": "2023-02-05T19:14:41.152448Z",
     "shell.execute_reply": "2023-02-05T19:14:41.151374Z"
    },
    "papermill": {
     "duration": 611.381868,
     "end_time": "2023-02-05T19:14:41.155675",
     "exception": false,
     "start_time": "2023-02-05T19:04:29.773807",
     "status": "completed"
    },
    "tags": []
   },
   "outputs": [
    {
     "name": "stdout",
     "output_type": "stream",
     "text": [
      "Model: \"conv_3d1\"\n",
      "_________________________________________________________________\n",
      "Layer (type)                 Output Shape              Param #   \n",
      "=================================================================\n",
      "conv3d_3 (Conv3D)            (None, 12, 96, 96, 16)    6016      \n",
      "_________________________________________________________________\n",
      "max_pooling3d_3 (MaxPooling3 (None, 6, 48, 48, 16)     0         \n",
      "_________________________________________________________________\n",
      "batch_normalization_5 (Batch (None, 6, 48, 48, 16)     64        \n",
      "_________________________________________________________________\n",
      "conv3d_4 (Conv3D)            (None, 4, 46, 46, 32)     13856     \n",
      "_________________________________________________________________\n",
      "max_pooling3d_4 (MaxPooling3 (None, 4, 23, 23, 32)     0         \n",
      "_________________________________________________________________\n",
      "batch_normalization_6 (Batch (None, 4, 23, 23, 32)     128       \n",
      "_________________________________________________________________\n",
      "conv3d_5 (Conv3D)            (None, 2, 21, 21, 64)     55360     \n",
      "_________________________________________________________________\n",
      "max_pooling3d_5 (MaxPooling3 (None, 2, 11, 11, 64)     0         \n",
      "_________________________________________________________________\n",
      "batch_normalization_7 (Batch (None, 2, 11, 11, 64)     256       \n",
      "_________________________________________________________________\n",
      "flatten_1 (Flatten)          (None, 15488)             0         \n",
      "_________________________________________________________________\n",
      "dense_3 (Dense)              (None, 128)               1982592   \n",
      "_________________________________________________________________\n",
      "batch_normalization_8 (Batch (None, 128)               512       \n",
      "_________________________________________________________________\n",
      "dropout_2 (Dropout)          (None, 128)               0         \n",
      "_________________________________________________________________\n",
      "dense_4 (Dense)              (None, 64)                8256      \n",
      "_________________________________________________________________\n",
      "batch_normalization_9 (Batch (None, 64)                256       \n",
      "_________________________________________________________________\n",
      "dropout_3 (Dropout)          (None, 64)                0         \n",
      "_________________________________________________________________\n",
      "dense_5 (Dense)              (None, 5)                 325       \n",
      "=================================================================\n",
      "Total params: 2,067,621\n",
      "Trainable params: 2,067,013\n",
      "Non-trainable params: 608\n",
      "_________________________________________________________________\n",
      "None\n",
      "Source path =  ../input/gesturerecognition/Project_data/train ; batch size = 64\n"
     ]
    },
    {
     "name": "stderr",
     "output_type": "stream",
     "text": [
      "2023-02-05 19:04:39.695689: I tensorflow/compiler/mlir/mlir_graph_optimization_pass.cc:185] None of the MLIR Optimization Passes are enabled (registered 2)\n"
     ]
    },
    {
     "name": "stdout",
     "output_type": "stream",
     "text": [
      "Epoch 1/20\n"
     ]
    },
    {
     "name": "stderr",
     "output_type": "stream",
     "text": [
      "2023-02-05 19:04:41.952240: I tensorflow/stream_executor/cuda/cuda_dnn.cc:369] Loaded cuDNN version 8005\n"
     ]
    },
    {
     "name": "stdout",
     "output_type": "stream",
     "text": [
      "11/11 [==============================] - ETA: 0s - loss: 1.4577 - categorical_accuracy: 0.4570Source path =  ../input/gesturerecognition/Project_data/val ; batch size = 64\n",
      "11/11 [==============================] - 119s 11s/step - loss: 1.4577 - categorical_accuracy: 0.4570 - val_loss: 7.5134 - val_categorical_accuracy: 0.2400\n",
      "\n",
      "Epoch 00001: val_loss improved from inf to 7.51336, saving model to model_init_2023-02-0519_04_02.625413/model-00001-1.45772-0.45701-7.51336-0.24000.h5\n",
      "Epoch 2/20\n",
      "11/11 [==============================] - 42s 4s/step - loss: 1.0420 - categorical_accuracy: 0.6126 - val_loss: 8.3756 - val_categorical_accuracy: 0.2344\n",
      "\n",
      "Epoch 00002: val_loss did not improve from 7.51336\n",
      "Epoch 3/20\n",
      "11/11 [==============================] - 41s 4s/step - loss: 1.0515 - categorical_accuracy: 0.6364 - val_loss: 6.8267 - val_categorical_accuracy: 0.2321\n",
      "\n",
      "Epoch 00003: val_loss improved from 7.51336 to 6.82668, saving model to model_init_2023-02-0519_04_02.625413/model-00003-1.05151-0.63636-6.82668-0.23214.h5\n",
      "Epoch 4/20\n",
      "11/11 [==============================] - 36s 4s/step - loss: 0.8503 - categorical_accuracy: 0.6695 - val_loss: 4.4192 - val_categorical_accuracy: 0.1875\n",
      "\n",
      "Epoch 00004: val_loss improved from 6.82668 to 4.41918, saving model to model_init_2023-02-0519_04_02.625413/model-00004-0.85031-0.66953-4.41918-0.18750.h5\n",
      "Epoch 5/20\n",
      "11/11 [==============================] - 31s 3s/step - loss: 0.9077 - categorical_accuracy: 0.6603 - val_loss: 3.2760 - val_categorical_accuracy: 0.2188\n",
      "\n",
      "Epoch 00005: val_loss improved from 4.41918 to 3.27598, saving model to model_init_2023-02-0519_04_02.625413/model-00005-0.90766-0.66029-3.27598-0.21875.h5\n",
      "Epoch 6/20\n",
      "11/11 [==============================] - 26s 3s/step - loss: 0.8419 - categorical_accuracy: 0.6459 - val_loss: 3.7202 - val_categorical_accuracy: 0.2500\n",
      "\n",
      "Epoch 00006: val_loss did not improve from 3.27598\n",
      "Epoch 7/20\n",
      "11/11 [==============================] - 28s 3s/step - loss: 0.8130 - categorical_accuracy: 0.6650 - val_loss: 2.9356 - val_categorical_accuracy: 0.0000e+00\n",
      "\n",
      "Epoch 00007: val_loss improved from 3.27598 to 2.93559, saving model to model_init_2023-02-0519_04_02.625413/model-00007-0.81298-0.66502-2.93559-0.00000.h5\n",
      "Epoch 8/20\n",
      "11/11 [==============================] - 24s 2s/step - loss: 0.6446 - categorical_accuracy: 0.7754 - val_loss: 2.3789 - val_categorical_accuracy: 0.0000e+00\n",
      "\n",
      "Epoch 00008: val_loss improved from 2.93559 to 2.37893, saving model to model_init_2023-02-0519_04_02.625413/model-00008-0.64462-0.77540-2.37893-0.00000.h5\n",
      "Epoch 9/20\n",
      "11/11 [==============================] - 23s 2s/step - loss: 0.9044 - categorical_accuracy: 0.6684 - val_loss: 1.3556 - val_categorical_accuracy: 0.5000\n",
      "\n",
      "Epoch 00009: val_loss improved from 2.37893 to 1.35560, saving model to model_init_2023-02-0519_04_02.625413/model-00009-0.90444-0.66845-1.35560-0.50000.h5\n",
      "Epoch 10/20\n",
      "11/11 [==============================] - 23s 2s/step - loss: 0.7322 - categorical_accuracy: 0.7219 - val_loss: 3.5239 - val_categorical_accuracy: 0.0000e+00\n",
      "\n",
      "Epoch 00010: val_loss did not improve from 1.35560\n",
      "Epoch 11/20\n",
      "11/11 [==============================] - 22s 2s/step - loss: 0.6387 - categorical_accuracy: 0.7487 - val_loss: 1.7481 - val_categorical_accuracy: 0.3750\n",
      "\n",
      "Epoch 00011: val_loss did not improve from 1.35560\n",
      "Epoch 12/20\n",
      "11/11 [==============================] - 24s 2s/step - loss: 0.5349 - categorical_accuracy: 0.7807 - val_loss: 5.2941 - val_categorical_accuracy: 0.0000e+00\n",
      "\n",
      "Epoch 00012: val_loss did not improve from 1.35560\n",
      "Epoch 13/20\n",
      "11/11 [==============================] - 24s 2s/step - loss: 0.5115 - categorical_accuracy: 0.8021 - val_loss: 2.7397 - val_categorical_accuracy: 0.5000\n",
      "\n",
      "Epoch 00013: val_loss did not improve from 1.35560\n",
      "\n",
      "Epoch 00013: ReduceLROnPlateau reducing learning rate to 0.00020000000949949026.\n",
      "Epoch 14/20\n",
      "11/11 [==============================] - 25s 2s/step - loss: 0.5434 - categorical_accuracy: 0.7968 - val_loss: 2.7910 - val_categorical_accuracy: 0.2500\n",
      "\n",
      "Epoch 00014: val_loss did not improve from 1.35560\n",
      "Epoch 15/20\n",
      "11/11 [==============================] - 23s 2s/step - loss: 0.3978 - categorical_accuracy: 0.8503 - val_loss: 1.6699 - val_categorical_accuracy: 0.6250\n",
      "\n",
      "Epoch 00015: val_loss did not improve from 1.35560\n",
      "Epoch 16/20\n",
      "11/11 [==============================] - 23s 2s/step - loss: 0.3219 - categorical_accuracy: 0.8984 - val_loss: 2.9253 - val_categorical_accuracy: 0.5000\n",
      "\n",
      "Epoch 00016: val_loss did not improve from 1.35560\n",
      "Epoch 17/20\n",
      "11/11 [==============================] - 24s 2s/step - loss: 0.3190 - categorical_accuracy: 0.8984 - val_loss: 1.7908 - val_categorical_accuracy: 0.6250\n",
      "\n",
      "Epoch 00017: val_loss did not improve from 1.35560\n",
      "\n",
      "Epoch 00017: ReduceLROnPlateau reducing learning rate to 4.0000001899898055e-05.\n",
      "Epoch 18/20\n",
      "11/11 [==============================] - 23s 2s/step - loss: 0.4032 - categorical_accuracy: 0.8556 - val_loss: 2.4926 - val_categorical_accuracy: 0.2500\n",
      "\n",
      "Epoch 00018: val_loss did not improve from 1.35560\n",
      "Epoch 19/20\n",
      "11/11 [==============================] - 23s 2s/step - loss: 0.4100 - categorical_accuracy: 0.8663 - val_loss: 1.8803 - val_categorical_accuracy: 0.5000\n",
      "\n",
      "Epoch 00019: val_loss did not improve from 1.35560\n",
      "Epoch 00019: early stopping\n"
     ]
    }
   ],
   "source": [
    "n_frames = 16\n",
    "num_epochs = 20\n",
    "batch_size = 64\n",
    "\n",
    "img_tensor = getImgTensor(n_frames)\n",
    "train_generator = generator(train_path, train_doc, batch_size, img_tensor)\n",
    "val_generator = generator(val_path, val_doc, batch_size, img_tensor)\n",
    "\n",
    "\n",
    "if (num_train_sequences%batch_size) == 0:\n",
    "    steps_per_epoch = int(num_train_sequences/batch_size)\n",
    "else:\n",
    "    steps_per_epoch = (num_train_sequences//batch_size) + 1\n",
    "\n",
    "if (num_val_sequences%batch_size) == 0:\n",
    "    validation_steps = int(num_val_sequences/batch_size)\n",
    "else:\n",
    "    validation_steps = (num_val_sequences//batch_size) + 1\n",
    "    \n",
    "inputShape = (len(img_tensor[0]), img_tensor[1], img_tensor[2], img_tensor[3])\n",
    "\n",
    "model1 = Sequential([\n",
    "    Conv3D(16, make3dFilter(5), activation='relu', input_shape=inputShape),\n",
    "    MaxPooling3D(make3dFilter(2), padding='same'),\n",
    "    BatchNormalization(),\n",
    "\n",
    "    Conv3D(32, make3dFilter(3), activation='relu'),\n",
    "    MaxPooling3D(pool_size=(1,2,2), padding='same'),\n",
    "    BatchNormalization(),\n",
    "\n",
    "    Conv3D(64, make3dFilter(3), activation='relu'),\n",
    "    MaxPooling3D(pool_size=(1,2,2), padding='same'),\n",
    "    BatchNormalization(),\n",
    "\n",
    "    Flatten(),\n",
    "    Dense(128, activation='relu'),\n",
    "    BatchNormalization(),\n",
    "    Dropout(0.25),\n",
    "\n",
    "    Dense(64, activation='relu'),\n",
    "    BatchNormalization(),\n",
    "    Dropout(0.25),\n",
    "\n",
    "    Dense(5, activation='softmax')\n",
    "], name=\"conv_3d1\")\n",
    "model1.compile(optimizer=tf.keras.optimizers.Adam(), loss='categorical_crossentropy', metrics=['categorical_accuracy'])\n",
    "print(model1.summary())\n",
    "\n",
    "model1_history = model1.fit_generator(train_generator, steps_per_epoch=steps_per_epoch, epochs=num_epochs, verbose=1, \n",
    "            callbacks=callbacks_list, validation_data=val_generator, \n",
    "            validation_steps=validation_steps, class_weight=None, workers=1, initial_epoch=0)"
   ]
  },
  {
   "cell_type": "code",
   "execution_count": 24,
   "id": "d0ed5c79",
   "metadata": {
    "execution": {
     "iopub.execute_input": "2023-02-05T19:14:41.229564Z",
     "iopub.status.busy": "2023-02-05T19:14:41.229231Z",
     "iopub.status.idle": "2023-02-05T19:15:02.874341Z",
     "shell.execute_reply": "2023-02-05T19:15:02.873400Z"
    },
    "papermill": {
     "duration": 21.6852,
     "end_time": "2023-02-05T19:15:02.876394",
     "exception": false,
     "start_time": "2023-02-05T19:14:41.191194",
     "status": "completed"
    },
    "tags": []
   },
   "outputs": [
    {
     "data": {
      "image/png": "[encoded data removed]",
      "text/plain": [
       "<Figure size 1080x288 with 2 Axes>"
      ]
     },
     "metadata": {
      "needs_background": "light"
     },
     "output_type": "display_data"
    },
    {
     "name": "stdout",
     "output_type": "stream",
     "text": [
      "Max. Training Accuracy 0.8983957171440125\n",
      "Max. Validaiton Accuracy 0.625\n"
     ]
    }
   ],
   "source": [
    "plotModelHistory(model1_history)"
   ]
  },
  {
   "cell_type": "markdown",
   "id": "f8d22fc1",
   "metadata": {
    "papermill": {
     "duration": 0.02627,
     "end_time": "2023-02-05T19:15:02.929504",
     "exception": false,
     "start_time": "2023-02-05T19:15:02.903234",
     "status": "completed"
    },
    "tags": []
   },
   "source": [
    "**Model 2: Frames-20, Epocs-25**"
   ]
  },
  {
   "cell_type": "code",
   "execution_count": 25,
   "id": "cd316571",
   "metadata": {
    "execution": {
     "iopub.execute_input": "2023-02-05T19:15:02.983469Z",
     "iopub.status.busy": "2023-02-05T19:15:02.982634Z",
     "iopub.status.idle": "2023-02-05T19:26:34.158168Z",
     "shell.execute_reply": "2023-02-05T19:26:34.156911Z"
    },
    "papermill": {
     "duration": 691.205916,
     "end_time": "2023-02-05T19:26:34.161197",
     "exception": false,
     "start_time": "2023-02-05T19:15:02.955281",
     "status": "completed"
    },
    "tags": []
   },
   "outputs": [
    {
     "name": "stdout",
     "output_type": "stream",
     "text": [
      "Model: \"conv_3d2\"\n",
      "_________________________________________________________________\n",
      "Layer (type)                 Output Shape              Param #   \n",
      "=================================================================\n",
      "conv3d_6 (Conv3D)            (None, 16, 96, 96, 16)    6016      \n",
      "_________________________________________________________________\n",
      "max_pooling3d_6 (MaxPooling3 (None, 8, 48, 48, 16)     0         \n",
      "_________________________________________________________________\n",
      "batch_normalization_10 (Batc (None, 8, 48, 48, 16)     64        \n",
      "_________________________________________________________________\n",
      "conv3d_7 (Conv3D)            (None, 6, 46, 46, 32)     13856     \n",
      "_________________________________________________________________\n",
      "max_pooling3d_7 (MaxPooling3 (None, 6, 23, 23, 32)     0         \n",
      "_________________________________________________________________\n",
      "batch_normalization_11 (Batc (None, 6, 23, 23, 32)     128       \n",
      "_________________________________________________________________\n",
      "conv3d_8 (Conv3D)            (None, 4, 21, 21, 64)     55360     \n",
      "_________________________________________________________________\n",
      "max_pooling3d_8 (MaxPooling3 (None, 4, 11, 11, 64)     0         \n",
      "_________________________________________________________________\n",
      "batch_normalization_12 (Batc (None, 4, 11, 11, 64)     256       \n",
      "_________________________________________________________________\n",
      "flatten_2 (Flatten)          (None, 30976)             0         \n",
      "_________________________________________________________________\n",
      "dense_6 (Dense)              (None, 128)               3965056   \n",
      "_________________________________________________________________\n",
      "batch_normalization_13 (Batc (None, 128)               512       \n",
      "_________________________________________________________________\n",
      "dropout_4 (Dropout)          (None, 128)               0         \n",
      "_________________________________________________________________\n",
      "dense_7 (Dense)              (None, 64)                8256      \n",
      "_________________________________________________________________\n",
      "batch_normalization_14 (Batc (None, 64)                256       \n",
      "_________________________________________________________________\n",
      "dropout_5 (Dropout)          (None, 64)                0         \n",
      "_________________________________________________________________\n",
      "dense_8 (Dense)              (None, 5)                 325       \n",
      "=================================================================\n",
      "Total params: 4,050,085\n",
      "Trainable params: 4,049,477\n",
      "Non-trainable params: 608\n",
      "_________________________________________________________________\n",
      "None\n",
      "Source path =  ../input/gesturerecognition/Project_data/train ; batch size = 64\n",
      "Epoch 1/25\n",
      "11/11 [==============================] - ETA: 0s - loss: 1.5304 - categorical_accuracy: 0.4646 Source path =  ../input/gesturerecognition/Project_data/val ; batch size = 64\n",
      "11/11 [==============================] - 132s 13s/step - loss: 1.5304 - categorical_accuracy: 0.4646 - val_loss: 11.6638 - val_categorical_accuracy: 0.2600\n",
      "\n",
      "Epoch 00001: val_loss did not improve from 1.35560\n",
      "Epoch 2/25\n",
      "11/11 [==============================] - 52s 5s/step - loss: 0.9740 - categorical_accuracy: 0.6126 - val_loss: 9.6298 - val_categorical_accuracy: 0.2656\n",
      "\n",
      "Epoch 00002: val_loss did not improve from 1.35560\n",
      "Epoch 3/25\n",
      "11/11 [==============================] - 47s 5s/step - loss: 1.2069 - categorical_accuracy: 0.5375 - val_loss: 4.2884 - val_categorical_accuracy: 0.2679\n",
      "\n",
      "Epoch 00003: val_loss did not improve from 1.35560\n",
      "Epoch 4/25\n",
      "11/11 [==============================] - 42s 4s/step - loss: 1.0896 - categorical_accuracy: 0.6052 - val_loss: 4.5844 - val_categorical_accuracy: 0.2500\n",
      "\n",
      "Epoch 00004: val_loss did not improve from 1.35560\n",
      "Epoch 5/25\n",
      "11/11 [==============================] - 37s 4s/step - loss: 0.9763 - categorical_accuracy: 0.6459 - val_loss: 6.6895 - val_categorical_accuracy: 0.2188\n",
      "\n",
      "Epoch 00005: val_loss did not improve from 1.35560\n",
      "Epoch 6/25\n",
      "11/11 [==============================] - 33s 3s/step - loss: 0.9088 - categorical_accuracy: 0.6459 - val_loss: 4.3435 - val_categorical_accuracy: 0.3750\n",
      "\n",
      "Epoch 00006: val_loss did not improve from 1.35560\n",
      "Epoch 7/25\n",
      "11/11 [==============================] - 34s 3s/step - loss: 0.7092 - categorical_accuracy: 0.7291 - val_loss: 1.2280 - val_categorical_accuracy: 0.5000\n",
      "\n",
      "Epoch 00007: val_loss improved from 1.35560 to 1.22798, saving model to model_init_2023-02-0519_04_02.625413/model-00007-0.70916-0.72906-1.22798-0.50000.h5\n",
      "Epoch 8/25\n",
      "11/11 [==============================] - 30s 3s/step - loss: 0.7844 - categorical_accuracy: 0.7219 - val_loss: 3.2848 - val_categorical_accuracy: 0.2500\n",
      "\n",
      "Epoch 00008: val_loss did not improve from 1.22798\n",
      "Epoch 9/25\n",
      "11/11 [==============================] - 31s 3s/step - loss: 1.0476 - categorical_accuracy: 0.6257 - val_loss: 1.4781 - val_categorical_accuracy: 0.5000\n",
      "\n",
      "Epoch 00009: val_loss did not improve from 1.22798\n",
      "Epoch 10/25\n",
      "11/11 [==============================] - 29s 3s/step - loss: 0.9163 - categorical_accuracy: 0.6738 - val_loss: 1.8444 - val_categorical_accuracy: 0.1250\n",
      "\n",
      "Epoch 00010: val_loss did not improve from 1.22798\n",
      "Epoch 11/25\n",
      "11/11 [==============================] - 30s 3s/step - loss: 0.7919 - categorical_accuracy: 0.6952 - val_loss: 2.3030 - val_categorical_accuracy: 0.1250\n",
      "\n",
      "Epoch 00011: val_loss did not improve from 1.22798\n",
      "\n",
      "Epoch 00011: ReduceLROnPlateau reducing learning rate to 0.00020000000949949026.\n",
      "Epoch 12/25\n",
      "11/11 [==============================] - 31s 3s/step - loss: 0.6401 - categorical_accuracy: 0.7219 - val_loss: 2.1135 - val_categorical_accuracy: 0.3750\n",
      "\n",
      "Epoch 00012: val_loss did not improve from 1.22798\n",
      "Epoch 13/25\n",
      "11/11 [==============================] - 29s 3s/step - loss: 0.6909 - categorical_accuracy: 0.7166 - val_loss: 2.0632 - val_categorical_accuracy: 0.2500\n",
      "\n",
      "Epoch 00013: val_loss did not improve from 1.22798\n",
      "Epoch 14/25\n",
      "11/11 [==============================] - 30s 3s/step - loss: 0.5893 - categorical_accuracy: 0.8182 - val_loss: 2.0067 - val_categorical_accuracy: 0.3750\n",
      "\n",
      "Epoch 00014: val_loss did not improve from 1.22798\n",
      "Epoch 15/25\n",
      "11/11 [==============================] - 31s 3s/step - loss: 0.4880 - categorical_accuracy: 0.8610 - val_loss: 2.8105 - val_categorical_accuracy: 0.1250\n",
      "\n",
      "Epoch 00015: val_loss did not improve from 1.22798\n",
      "\n",
      "Epoch 00015: ReduceLROnPlateau reducing learning rate to 4.0000001899898055e-05.\n",
      "Epoch 16/25\n",
      "11/11 [==============================] - 32s 3s/step - loss: 0.5092 - categorical_accuracy: 0.8396 - val_loss: 2.4689 - val_categorical_accuracy: 0.2500\n",
      "\n",
      "Epoch 00016: val_loss did not improve from 1.22798\n",
      "Epoch 17/25\n",
      "11/11 [==============================] - 30s 3s/step - loss: 0.6096 - categorical_accuracy: 0.7380 - val_loss: 2.1769 - val_categorical_accuracy: 0.2500\n",
      "\n",
      "Epoch 00017: val_loss did not improve from 1.22798\n",
      "Epoch 00017: early stopping\n"
     ]
    }
   ],
   "source": [
    "n_frames = 20\n",
    "num_epochs = 25\n",
    "batch_size = 64\n",
    "\n",
    "img_tensor = getImgTensor(n_frames)\n",
    "train_generator = generator(train_path, train_doc, batch_size, img_tensor)\n",
    "val_generator = generator(val_path, val_doc, batch_size, img_tensor)\n",
    "\n",
    "\n",
    "if (num_train_sequences%batch_size) == 0:\n",
    "    steps_per_epoch = int(num_train_sequences/batch_size)\n",
    "else:\n",
    "    steps_per_epoch = (num_train_sequences//batch_size) + 1\n",
    "\n",
    "if (num_val_sequences%batch_size) == 0:\n",
    "    validation_steps = int(num_val_sequences/batch_size)\n",
    "else:\n",
    "    validation_steps = (num_val_sequences//batch_size) + 1\n",
    "    \n",
    "inputShape = (len(img_tensor[0]), img_tensor[1], img_tensor[2], img_tensor[3])\n",
    "\n",
    "model2 = Sequential([\n",
    "    Conv3D(16, make3dFilter(5), activation='relu', input_shape=inputShape),\n",
    "    MaxPooling3D(make3dFilter(2), padding='same'),\n",
    "    BatchNormalization(),\n",
    "\n",
    "    Conv3D(32, make3dFilter(3), activation='relu'),\n",
    "    MaxPooling3D(pool_size=(1,2,2), padding='same'),\n",
    "    BatchNormalization(),\n",
    "\n",
    "    Conv3D(64, make3dFilter(3), activation='relu'),\n",
    "    MaxPooling3D(pool_size=(1,2,2), padding='same'),\n",
    "    BatchNormalization(),\n",
    "\n",
    "    Flatten(),\n",
    "    Dense(128, activation='relu'),\n",
    "    BatchNormalization(),\n",
    "    Dropout(0.25),\n",
    "\n",
    "    Dense(64, activation='relu'),\n",
    "    BatchNormalization(),\n",
    "    Dropout(0.25),\n",
    "\n",
    "    Dense(5, activation='softmax')\n",
    "], name=\"conv_3d2\")\n",
    "model2.compile(optimizer=tf.keras.optimizers.Adam(), loss='categorical_crossentropy', metrics=['categorical_accuracy'])\n",
    "print(model2.summary())\n",
    "\n",
    "model2_history = model2.fit_generator(train_generator, steps_per_epoch=steps_per_epoch, epochs=num_epochs, verbose=1, \n",
    "            callbacks=callbacks_list, validation_data=val_generator, \n",
    "            validation_steps=validation_steps, class_weight=None, workers=1, initial_epoch=0)"
   ]
  },
  {
   "cell_type": "code",
   "execution_count": 26,
   "id": "45ab9b2d",
   "metadata": {
    "execution": {
     "iopub.execute_input": "2023-02-05T19:26:34.271050Z",
     "iopub.status.busy": "2023-02-05T19:26:34.270712Z",
     "iopub.status.idle": "2023-02-05T19:26:37.608734Z",
     "shell.execute_reply": "2023-02-05T19:26:37.607750Z"
    },
    "papermill": {
     "duration": 3.39595,
     "end_time": "2023-02-05T19:26:37.611536",
     "exception": false,
     "start_time": "2023-02-05T19:26:34.215586",
     "status": "completed"
    },
    "tags": []
   },
   "outputs": [
    {
     "data": {
      "image/png": "[encoded data removed]",
      "text/plain": [
       "<Figure size 1080x288 with 2 Axes>"
      ]
     },
     "metadata": {
      "needs_background": "light"
     },
     "output_type": "display_data"
    },
    {
     "name": "stdout",
     "output_type": "stream",
     "text": [
      "Max. Training Accuracy 0.8609625697135925\n",
      "Max. Validaiton Accuracy 0.5\n"
     ]
    }
   ],
   "source": [
    "plotModelHistory(model2_history)"
   ]
  },
  {
   "cell_type": "markdown",
   "id": "086425d0",
   "metadata": {
    "papermill": {
     "duration": 0.03441,
     "end_time": "2023-02-05T19:26:37.681322",
     "exception": false,
     "start_time": "2023-02-05T19:26:37.646912",
     "status": "completed"
    },
    "tags": []
   },
   "source": [
    "Model 3: Frames-25, Epocs-20, Reduced parameters"
   ]
  },
  {
   "cell_type": "code",
   "execution_count": 27,
   "id": "8e60472a",
   "metadata": {
    "execution": {
     "iopub.execute_input": "2023-02-05T19:26:37.751340Z",
     "iopub.status.busy": "2023-02-05T19:26:37.750993Z",
     "iopub.status.idle": "2023-02-05T19:43:13.664948Z",
     "shell.execute_reply": "2023-02-05T19:43:13.663874Z"
    },
    "papermill": {
     "duration": 995.952359,
     "end_time": "2023-02-05T19:43:13.667736",
     "exception": false,
     "start_time": "2023-02-05T19:26:37.715377",
     "status": "completed"
    },
    "tags": []
   },
   "outputs": [
    {
     "name": "stdout",
     "output_type": "stream",
     "text": [
      "Model: \"conv_3d2\"\n",
      "_________________________________________________________________\n",
      "Layer (type)                 Output Shape              Param #   \n",
      "=================================================================\n",
      "conv3d_9 (Conv3D)            (None, 21, 96, 96, 16)    6016      \n",
      "_________________________________________________________________\n",
      "max_pooling3d_9 (MaxPooling3 (None, 11, 48, 48, 16)    0         \n",
      "_________________________________________________________________\n",
      "batch_normalization_15 (Batc (None, 11, 48, 48, 16)    64        \n",
      "_________________________________________________________________\n",
      "conv3d_10 (Conv3D)           (None, 9, 46, 46, 32)     13856     \n",
      "_________________________________________________________________\n",
      "max_pooling3d_10 (MaxPooling (None, 9, 23, 23, 32)     0         \n",
      "_________________________________________________________________\n",
      "batch_normalization_16 (Batc (None, 9, 23, 23, 32)     128       \n",
      "_________________________________________________________________\n",
      "conv3d_11 (Conv3D)           (None, 7, 21, 21, 64)     55360     \n",
      "_________________________________________________________________\n",
      "max_pooling3d_11 (MaxPooling (None, 7, 11, 11, 64)     0         \n",
      "_________________________________________________________________\n",
      "batch_normalization_17 (Batc (None, 7, 11, 11, 64)     256       \n",
      "_________________________________________________________________\n",
      "flatten_3 (Flatten)          (None, 54208)             0         \n",
      "_________________________________________________________________\n",
      "dense_9 (Dense)              (None, 128)               6938752   \n",
      "_________________________________________________________________\n",
      "batch_normalization_18 (Batc (None, 128)               512       \n",
      "_________________________________________________________________\n",
      "dropout_6 (Dropout)          (None, 128)               0         \n",
      "_________________________________________________________________\n",
      "dense_10 (Dense)             (None, 64)                8256      \n",
      "_________________________________________________________________\n",
      "batch_normalization_19 (Batc (None, 64)                256       \n",
      "_________________________________________________________________\n",
      "dropout_7 (Dropout)          (None, 64)                0         \n",
      "_________________________________________________________________\n",
      "dense_11 (Dense)             (None, 5)                 325       \n",
      "=================================================================\n",
      "Total params: 7,023,781\n",
      "Trainable params: 7,023,173\n",
      "Non-trainable params: 608\n",
      "_________________________________________________________________\n",
      "None\n",
      "Source path =  ../input/gesturerecognition/Project_data/train ; batch size = 64\n",
      "Epoch 1/20\n",
      "11/11 [==============================] - ETA: 0s - loss: 1.6145 - categorical_accuracy: 0.4223 Source path =  ../input/gesturerecognition/Project_data/val ; batch size = 64\n",
      "11/11 [==============================] - 155s 15s/step - loss: 1.6145 - categorical_accuracy: 0.4223 - val_loss: 4.5773 - val_categorical_accuracy: 0.2600\n",
      "\n",
      "Epoch 00001: val_loss did not improve from 1.22798\n",
      "Epoch 2/20\n",
      "11/11 [==============================] - 65s 6s/step - loss: 1.0167 - categorical_accuracy: 0.6126 - val_loss: 4.5807 - val_categorical_accuracy: 0.2969\n",
      "\n",
      "Epoch 00002: val_loss did not improve from 1.22798\n",
      "Epoch 3/20\n",
      "11/11 [==============================] - 63s 6s/step - loss: 1.0256 - categorical_accuracy: 0.6166 - val_loss: 2.1159 - val_categorical_accuracy: 0.3571\n",
      "\n",
      "Epoch 00003: val_loss did not improve from 1.22798\n",
      "Epoch 4/20\n",
      "11/11 [==============================] - 54s 5s/step - loss: 0.9141 - categorical_accuracy: 0.6695 - val_loss: 3.7270 - val_categorical_accuracy: 0.1562\n",
      "\n",
      "Epoch 00004: val_loss did not improve from 1.22798\n",
      "Epoch 5/20\n",
      "11/11 [==============================] - 49s 5s/step - loss: 0.7599 - categorical_accuracy: 0.6842 - val_loss: 4.8332 - val_categorical_accuracy: 0.2188\n",
      "\n",
      "Epoch 00005: val_loss did not improve from 1.22798\n",
      "Epoch 6/20\n",
      "11/11 [==============================] - 39s 4s/step - loss: 0.8489 - categorical_accuracy: 0.6651 - val_loss: 4.1587 - val_categorical_accuracy: 0.3750\n",
      "\n",
      "Epoch 00006: val_loss did not improve from 1.22798\n",
      "Epoch 7/20\n",
      "11/11 [==============================] - 39s 4s/step - loss: 0.9394 - categorical_accuracy: 0.6256 - val_loss: 2.1092 - val_categorical_accuracy: 0.5000\n",
      "\n",
      "Epoch 00007: val_loss did not improve from 1.22798\n",
      "Epoch 8/20\n",
      "11/11 [==============================] - 39s 4s/step - loss: 0.6688 - categorical_accuracy: 0.7968 - val_loss: 2.5506 - val_categorical_accuracy: 0.3750\n",
      "\n",
      "Epoch 00008: val_loss did not improve from 1.22798\n",
      "Epoch 9/20\n",
      "11/11 [==============================] - 35s 4s/step - loss: 0.6790 - categorical_accuracy: 0.7112 - val_loss: 3.4751 - val_categorical_accuracy: 0.3750\n",
      "\n",
      "Epoch 00009: val_loss did not improve from 1.22798\n",
      "Epoch 10/20\n",
      "11/11 [==============================] - 38s 4s/step - loss: 0.6747 - categorical_accuracy: 0.7540 - val_loss: 1.8173 - val_categorical_accuracy: 0.1250\n",
      "\n",
      "Epoch 00010: val_loss did not improve from 1.22798\n",
      "Epoch 11/20\n",
      "11/11 [==============================] - 36s 4s/step - loss: 0.8069 - categorical_accuracy: 0.7166 - val_loss: 2.1485 - val_categorical_accuracy: 0.5000\n",
      "\n",
      "Epoch 00011: val_loss did not improve from 1.22798\n",
      "Epoch 12/20\n",
      "11/11 [==============================] - 35s 3s/step - loss: 0.5506 - categorical_accuracy: 0.8075 - val_loss: 2.3668 - val_categorical_accuracy: 0.2500\n",
      "\n",
      "Epoch 00012: val_loss did not improve from 1.22798\n",
      "Epoch 13/20\n",
      "11/11 [==============================] - 38s 4s/step - loss: 0.6901 - categorical_accuracy: 0.7326 - val_loss: 2.1252 - val_categorical_accuracy: 0.2500\n",
      "\n",
      "Epoch 00013: val_loss did not improve from 1.22798\n",
      "Epoch 14/20\n",
      "11/11 [==============================] - 39s 4s/step - loss: 0.5945 - categorical_accuracy: 0.7807 - val_loss: 1.7113 - val_categorical_accuracy: 0.3750\n",
      "\n",
      "Epoch 00014: val_loss did not improve from 1.22798\n",
      "Epoch 15/20\n",
      "11/11 [==============================] - 35s 3s/step - loss: 0.4542 - categorical_accuracy: 0.8235 - val_loss: 1.2617 - val_categorical_accuracy: 0.6250\n",
      "\n",
      "Epoch 00015: val_loss did not improve from 1.22798\n",
      "Epoch 16/20\n",
      "11/11 [==============================] - 38s 4s/step - loss: 0.3932 - categorical_accuracy: 0.8556 - val_loss: 1.5502 - val_categorical_accuracy: 0.5000\n",
      "\n",
      "Epoch 00016: val_loss did not improve from 1.22798\n",
      "Epoch 17/20\n",
      "11/11 [==============================] - 37s 4s/step - loss: 0.5827 - categorical_accuracy: 0.7968 - val_loss: 3.9620 - val_categorical_accuracy: 0.1250\n",
      "\n",
      "Epoch 00017: val_loss did not improve from 1.22798\n",
      "Epoch 18/20\n",
      "11/11 [==============================] - 37s 4s/step - loss: 0.4108 - categorical_accuracy: 0.8717 - val_loss: 3.3779 - val_categorical_accuracy: 0.2500\n",
      "\n",
      "Epoch 00018: val_loss did not improve from 1.22798\n",
      "Epoch 19/20\n",
      "11/11 [==============================] - 36s 4s/step - loss: 0.5395 - categorical_accuracy: 0.7968 - val_loss: 2.6538 - val_categorical_accuracy: 0.2500\n",
      "\n",
      "Epoch 00019: val_loss did not improve from 1.22798\n",
      "\n",
      "Epoch 00019: ReduceLROnPlateau reducing learning rate to 0.00020000000949949026.\n",
      "Epoch 20/20\n",
      "11/11 [==============================] - 39s 4s/step - loss: 0.3437 - categorical_accuracy: 0.8877 - val_loss: 1.8433 - val_categorical_accuracy: 0.3750\n",
      "\n",
      "Epoch 00020: val_loss did not improve from 1.22798\n"
     ]
    }
   ],
   "source": [
    "n_frames = 25\n",
    "num_epochs = 20\n",
    "batch_size = 64\n",
    "\n",
    "img_tensor = getImgTensor(n_frames)\n",
    "train_generator = generator(train_path, train_doc, batch_size, img_tensor)\n",
    "val_generator = generator(val_path, val_doc, batch_size, img_tensor)\n",
    "\n",
    "if (num_train_sequences%batch_size) == 0:\n",
    "    steps_per_epoch = int(num_train_sequences/batch_size)\n",
    "else:\n",
    "    steps_per_epoch = (num_train_sequences//batch_size) + 1\n",
    "\n",
    "if (num_val_sequences%batch_size) == 0:\n",
    "    validation_steps = int(num_val_sequences/batch_size)\n",
    "else:\n",
    "    validation_steps = (num_val_sequences//batch_size) + 1\n",
    "    \n",
    "inputShape = (len(img_tensor[0]), img_tensor[1], img_tensor[2], img_tensor[3])\n",
    "\n",
    "model2 = Sequential([\n",
    "    Conv3D(16, make3dFilter(5), activation='relu', input_shape=inputShape),\n",
    "    MaxPooling3D(make3dFilter(2), padding='same'),\n",
    "    BatchNormalization(),\n",
    "\n",
    "    Conv3D(32, make3dFilter(3), activation='relu'),\n",
    "    MaxPooling3D(pool_size=(1,2,2), padding='same'),\n",
    "    BatchNormalization(),\n",
    "\n",
    "    Conv3D(64, make3dFilter(3), activation='relu'),\n",
    "    MaxPooling3D(pool_size=(1,2,2), padding='same'),\n",
    "    BatchNormalization(),\n",
    "\n",
    "    Flatten(),\n",
    "    Dense(128, activation='relu'),\n",
    "    BatchNormalization(),\n",
    "    Dropout(0.25),\n",
    "\n",
    "    Dense(64, activation='relu'),\n",
    "    BatchNormalization(),\n",
    "    Dropout(0.25),\n",
    "\n",
    "    Dense(5, activation='softmax')\n",
    "], name=\"conv_3d2\")\n",
    "model2.compile(optimizer=tf.keras.optimizers.Adam(), loss='categorical_crossentropy', metrics=['categorical_accuracy'])\n",
    "print(model2.summary())\n",
    "\n",
    "model2_history = model2.fit_generator(train_generator, steps_per_epoch=steps_per_epoch, epochs=num_epochs, verbose=1, \n",
    "            callbacks=callbacks_list, validation_data=val_generator, \n",
    "            validation_steps=validation_steps, class_weight=None, workers=1, initial_epoch=0)"
   ]
  },
  {
   "cell_type": "code",
   "execution_count": 28,
   "id": "35b29684",
   "metadata": {
    "execution": {
     "iopub.execute_input": "2023-02-05T19:43:13.765216Z",
     "iopub.status.busy": "2023-02-05T19:43:13.764894Z",
     "iopub.status.idle": "2023-02-05T19:43:14.091633Z",
     "shell.execute_reply": "2023-02-05T19:43:14.090668Z"
    },
    "papermill": {
     "duration": 0.3778,
     "end_time": "2023-02-05T19:43:14.094111",
     "exception": false,
     "start_time": "2023-02-05T19:43:13.716311",
     "status": "completed"
    },
    "tags": []
   },
   "outputs": [
    {
     "data": {
      "image/png": "[encoded data removed]",
      "text/plain": [
       "<Figure size 1080x288 with 2 Axes>"
      ]
     },
     "metadata": {
      "needs_background": "light"
     },
     "output_type": "display_data"
    },
    {
     "name": "stdout",
     "output_type": "stream",
     "text": [
      "Max. Training Accuracy 0.8877005577087402\n",
      "Max. Validaiton Accuracy 0.625\n"
     ]
    }
   ],
   "source": [
    "plotModelHistory(model2_history)"
   ]
  },
  {
   "cell_type": "markdown",
   "id": "8ec4dcfb",
   "metadata": {
    "papermill": {
     "duration": 0.048196,
     "end_time": "2023-02-05T19:43:14.191154",
     "exception": false,
     "start_time": "2023-02-05T19:43:14.142958",
     "status": "completed"
    },
    "tags": []
   },
   "source": [
    "Model 4: Frames-20, Same pooling in Conv3D layer"
   ]
  },
  {
   "cell_type": "code",
   "execution_count": 29,
   "id": "c9e0b113",
   "metadata": {
    "execution": {
     "iopub.execute_input": "2023-02-05T19:43:14.288739Z",
     "iopub.status.busy": "2023-02-05T19:43:14.288367Z",
     "iopub.status.idle": "2023-02-05T19:51:26.646483Z",
     "shell.execute_reply": "2023-02-05T19:51:26.644716Z"
    },
    "papermill": {
     "duration": 492.410499,
     "end_time": "2023-02-05T19:51:26.649524",
     "exception": false,
     "start_time": "2023-02-05T19:43:14.239025",
     "status": "completed"
    },
    "tags": []
   },
   "outputs": [
    {
     "name": "stdout",
     "output_type": "stream",
     "text": [
      "Model: \"conv_3d4\"\n",
      "_________________________________________________________________\n",
      "Layer (type)                 Output Shape              Param #   \n",
      "=================================================================\n",
      "conv3d_12 (Conv3D)           (None, 20, 100, 100, 16)  1312      \n",
      "_________________________________________________________________\n",
      "max_pooling3d_12 (MaxPooling (None, 10, 50, 50, 16)    0         \n",
      "_________________________________________________________________\n",
      "batch_normalization_20 (Batc (None, 10, 50, 50, 16)    64        \n",
      "_________________________________________________________________\n",
      "conv3d_13 (Conv3D)           (None, 10, 50, 50, 32)    13856     \n",
      "_________________________________________________________________\n",
      "max_pooling3d_13 (MaxPooling (None, 5, 25, 25, 32)     0         \n",
      "_________________________________________________________________\n",
      "batch_normalization_21 (Batc (None, 5, 25, 25, 32)     128       \n",
      "_________________________________________________________________\n",
      "conv3d_14 (Conv3D)           (None, 5, 25, 25, 64)     55360     \n",
      "_________________________________________________________________\n",
      "max_pooling3d_14 (MaxPooling (None, 3, 13, 13, 64)     0         \n",
      "_________________________________________________________________\n",
      "batch_normalization_22 (Batc (None, 3, 13, 13, 64)     256       \n",
      "_________________________________________________________________\n",
      "conv3d_15 (Conv3D)           (None, 3, 13, 13, 128)    221312    \n",
      "_________________________________________________________________\n",
      "max_pooling3d_15 (MaxPooling (None, 2, 7, 7, 128)      0         \n",
      "_________________________________________________________________\n",
      "batch_normalization_23 (Batc (None, 2, 7, 7, 128)      512       \n",
      "_________________________________________________________________\n",
      "flatten_4 (Flatten)          (None, 12544)             0         \n",
      "_________________________________________________________________\n",
      "dense_12 (Dense)             (None, 128)               1605760   \n",
      "_________________________________________________________________\n",
      "batch_normalization_24 (Batc (None, 128)               512       \n",
      "_________________________________________________________________\n",
      "dropout_8 (Dropout)          (None, 128)               0         \n",
      "_________________________________________________________________\n",
      "dense_13 (Dense)             (None, 64)                8256      \n",
      "_________________________________________________________________\n",
      "batch_normalization_25 (Batc (None, 64)                256       \n",
      "_________________________________________________________________\n",
      "dropout_9 (Dropout)          (None, 64)                0         \n",
      "_________________________________________________________________\n",
      "dense_14 (Dense)             (None, 5)                 325       \n",
      "=================================================================\n",
      "Total params: 1,907,909\n",
      "Trainable params: 1,907,045\n",
      "Non-trainable params: 864\n",
      "_________________________________________________________________\n",
      "None\n",
      "Source path =  ../input/gesturerecognition/Project_data/train ; batch size = 64\n",
      "Epoch 1/20\n",
      "11/11 [==============================] - ETA: 0s - loss: 1.5175 - categorical_accuracy: 0.4389Source path =  ../input/gesturerecognition/Project_data/val ; batch size = 64\n",
      "11/11 [==============================] - 120s 12s/step - loss: 1.5175 - categorical_accuracy: 0.4389 - val_loss: 1.5243 - val_categorical_accuracy: 0.3100\n",
      "\n",
      "Epoch 00001: val_loss did not improve from 1.22798\n",
      "Epoch 2/20\n",
      "11/11 [==============================] - 51s 5s/step - loss: 1.0091 - categorical_accuracy: 0.6166 - val_loss: 2.0491 - val_categorical_accuracy: 0.2500\n",
      "\n",
      "Epoch 00002: val_loss did not improve from 1.22798\n",
      "Epoch 3/20\n",
      "11/11 [==============================] - 49s 5s/step - loss: 1.0013 - categorical_accuracy: 0.6324 - val_loss: 2.1134 - val_categorical_accuracy: 0.2143\n",
      "\n",
      "Epoch 00003: val_loss did not improve from 1.22798\n",
      "Epoch 4/20\n",
      "11/11 [==============================] - 41s 4s/step - loss: 0.8351 - categorical_accuracy: 0.6953 - val_loss: 2.4826 - val_categorical_accuracy: 0.2500\n",
      "\n",
      "Epoch 00004: val_loss did not improve from 1.22798\n",
      "Epoch 5/20\n",
      "11/11 [==============================] - 36s 4s/step - loss: 0.7472 - categorical_accuracy: 0.7225 - val_loss: 3.2124 - val_categorical_accuracy: 0.2188\n",
      "\n",
      "Epoch 00005: val_loss did not improve from 1.22798\n",
      "\n",
      "Epoch 00005: ReduceLROnPlateau reducing learning rate to 0.00020000000949949026.\n",
      "Epoch 6/20\n",
      "11/11 [==============================] - 32s 3s/step - loss: 0.6979 - categorical_accuracy: 0.7368 - val_loss: 2.9942 - val_categorical_accuracy: 0.2500\n",
      "\n",
      "Epoch 00006: val_loss did not improve from 1.22798\n",
      "Epoch 7/20\n",
      "11/11 [==============================] - 34s 3s/step - loss: 0.5770 - categorical_accuracy: 0.7980 - val_loss: 3.4395 - val_categorical_accuracy: 0.1250\n",
      "\n",
      "Epoch 00007: val_loss did not improve from 1.22798\n",
      "Epoch 8/20\n",
      "11/11 [==============================] - 28s 3s/step - loss: 0.5227 - categorical_accuracy: 0.8075 - val_loss: 3.4688 - val_categorical_accuracy: 0.1250\n",
      "\n",
      "Epoch 00008: val_loss did not improve from 1.22798\n",
      "Epoch 9/20\n",
      "11/11 [==============================] - 29s 3s/step - loss: 0.5465 - categorical_accuracy: 0.7914 - val_loss: 3.2605 - val_categorical_accuracy: 0.1250\n",
      "\n",
      "Epoch 00009: val_loss did not improve from 1.22798\n",
      "\n",
      "Epoch 00009: ReduceLROnPlateau reducing learning rate to 4.0000001899898055e-05.\n",
      "Epoch 10/20\n",
      "11/11 [==============================] - 33s 3s/step - loss: 0.6032 - categorical_accuracy: 0.7861 - val_loss: 3.4872 - val_categorical_accuracy: 0.0000e+00\n",
      "\n",
      "Epoch 00010: val_loss did not improve from 1.22798\n",
      "Epoch 11/20\n",
      "11/11 [==============================] - 30s 3s/step - loss: 0.5313 - categorical_accuracy: 0.7861 - val_loss: 3.9734 - val_categorical_accuracy: 0.0000e+00\n",
      "\n",
      "Epoch 00011: val_loss did not improve from 1.22798\n",
      "Epoch 00011: early stopping\n"
     ]
    }
   ],
   "source": [
    "n_frames = 20\n",
    "num_epochs = 20\n",
    "batch_size = 64\n",
    "\n",
    "img_tensor = getImgTensor(n_frames)\n",
    "train_generator = generator(train_path, train_doc, batch_size, img_tensor)\n",
    "val_generator = generator(val_path, val_doc, batch_size, img_tensor)\n",
    "\n",
    "if (num_train_sequences%batch_size) == 0:\n",
    "    steps_per_epoch = int(num_train_sequences/batch_size)\n",
    "else:\n",
    "    steps_per_epoch = (num_train_sequences//batch_size) + 1\n",
    "\n",
    "if (num_val_sequences%batch_size) == 0:\n",
    "    validation_steps = int(num_val_sequences/batch_size)\n",
    "else:\n",
    "    validation_steps = (num_val_sequences//batch_size) + 1\n",
    "    \n",
    "inputShape = (len(img_tensor[0]), img_tensor[1], img_tensor[2], img_tensor[3])\n",
    "\n",
    "model4 = Sequential([\n",
    "    Conv3D(16, make3dFilter(3), padding='same', activation='relu', input_shape=inputShape),\n",
    "    MaxPooling3D(make3dFilter(2), padding='same'),\n",
    "    BatchNormalization(),\n",
    "\n",
    "    Conv3D(32, make3dFilter(3), padding='same', activation='relu'),\n",
    "    MaxPooling3D(pool_size=(2), padding='same'),\n",
    "    BatchNormalization(),\n",
    "\n",
    "    Conv3D(64, make3dFilter(3), padding='same', activation='relu'),\n",
    "    MaxPooling3D(pool_size=(2), padding='same'),\n",
    "    BatchNormalization(),\n",
    "\n",
    "    Conv3D(128, make3dFilter(3), padding='same', activation='relu'),\n",
    "    MaxPooling3D(pool_size=(2), padding='same'),\n",
    "    BatchNormalization(),\n",
    "\n",
    "    Flatten(),\n",
    "    Dense(128, activation='relu'),\n",
    "    BatchNormalization(),\n",
    "    Dropout(0.25),\n",
    "\n",
    "    Dense(64, activation='relu'),\n",
    "    BatchNormalization(),\n",
    "    Dropout(0.25),\n",
    "\n",
    "    Dense(5, activation='softmax')\n",
    "], name=\"conv_3d4\")\n",
    "model4.compile(optimizer=tf.keras.optimizers.Adam(), loss='categorical_crossentropy', metrics=['categorical_accuracy'])\n",
    "print(model4.summary())\n",
    "\n",
    "model4_history = model4.fit_generator(train_generator, steps_per_epoch=steps_per_epoch, epochs=num_epochs, verbose=1, \n",
    "            callbacks=callbacks_list, validation_data=val_generator, \n",
    "            validation_steps=validation_steps, class_weight=None, workers=1, initial_epoch=0)"
   ]
  },
  {
   "cell_type": "code",
   "execution_count": 30,
   "id": "5eca7088",
   "metadata": {
    "execution": {
     "iopub.execute_input": "2023-02-05T19:51:26.840643Z",
     "iopub.status.busy": "2023-02-05T19:51:26.840227Z",
     "iopub.status.idle": "2023-02-05T19:51:46.826833Z",
     "shell.execute_reply": "2023-02-05T19:51:46.825916Z"
    },
    "papermill": {
     "duration": 20.085108,
     "end_time": "2023-02-05T19:51:46.829927",
     "exception": false,
     "start_time": "2023-02-05T19:51:26.744819",
     "status": "completed"
    },
    "tags": []
   },
   "outputs": [
    {
     "data": {
      "image/png": "[encoded data removed]",
      "text/plain": [
       "<Figure size 1080x288 with 2 Axes>"
      ]
     },
     "metadata": {
      "needs_background": "light"
     },
     "output_type": "display_data"
    },
    {
     "name": "stdout",
     "output_type": "stream",
     "text": [
      "Max. Training Accuracy 0.8074866533279419\n",
      "Max. Validaiton Accuracy 0.3100000023841858\n"
     ]
    }
   ],
   "source": [
    "plotModelHistory(model4_history)"
   ]
  },
  {
   "cell_type": "markdown",
   "id": "40cc931f",
   "metadata": {
    "papermill": {
     "duration": 0.055372,
     "end_time": "2023-02-05T19:51:46.941720",
     "exception": false,
     "start_time": "2023-02-05T19:51:46.886348",
     "status": "completed"
    },
    "tags": []
   },
   "source": [
    "# Model 5: Frames:20, Epocs-20, BS-64, reduced kernel to (2,2,2), switching BatchNormalization before MaxPooling."
   ]
  },
  {
   "cell_type": "code",
   "execution_count": 31,
   "id": "0b9641a2",
   "metadata": {
    "execution": {
     "iopub.execute_input": "2023-02-05T19:51:47.056002Z",
     "iopub.status.busy": "2023-02-05T19:51:47.055135Z",
     "iopub.status.idle": "2023-02-05T20:00:24.773309Z",
     "shell.execute_reply": "2023-02-05T20:00:24.771847Z"
    },
    "papermill": {
     "duration": 517.777783,
     "end_time": "2023-02-05T20:00:24.775492",
     "exception": false,
     "start_time": "2023-02-05T19:51:46.997709",
     "status": "completed"
    },
    "tags": []
   },
   "outputs": [
    {
     "name": "stdout",
     "output_type": "stream",
     "text": [
      "Model: \"conv_3d5\"\n",
      "_________________________________________________________________\n",
      "Layer (type)                 Output Shape              Param #   \n",
      "=================================================================\n",
      "conv3d_16 (Conv3D)           (None, 20, 100, 100, 16)  400       \n",
      "_________________________________________________________________\n",
      "batch_normalization_26 (Batc (None, 20, 100, 100, 16)  64        \n",
      "_________________________________________________________________\n",
      "max_pooling3d_16 (MaxPooling (None, 10, 50, 50, 16)    0         \n",
      "_________________________________________________________________\n",
      "conv3d_17 (Conv3D)           (None, 10, 50, 50, 32)    4128      \n",
      "_________________________________________________________________\n",
      "batch_normalization_27 (Batc (None, 10, 50, 50, 32)    128       \n",
      "_________________________________________________________________\n",
      "max_pooling3d_17 (MaxPooling (None, 5, 25, 25, 32)     0         \n",
      "_________________________________________________________________\n",
      "conv3d_18 (Conv3D)           (None, 5, 25, 25, 64)     16448     \n",
      "_________________________________________________________________\n",
      "batch_normalization_28 (Batc (None, 5, 25, 25, 64)     256       \n",
      "_________________________________________________________________\n",
      "max_pooling3d_18 (MaxPooling (None, 2, 12, 12, 64)     0         \n",
      "_________________________________________________________________\n",
      "conv3d_19 (Conv3D)           (None, 2, 12, 12, 128)    65664     \n",
      "_________________________________________________________________\n",
      "batch_normalization_29 (Batc (None, 2, 12, 12, 128)    512       \n",
      "_________________________________________________________________\n",
      "max_pooling3d_19 (MaxPooling (None, 1, 6, 6, 128)      0         \n",
      "_________________________________________________________________\n",
      "flatten_5 (Flatten)          (None, 4608)              0         \n",
      "_________________________________________________________________\n",
      "dense_15 (Dense)             (None, 256)               1179904   \n",
      "_________________________________________________________________\n",
      "dense_16 (Dense)             (None, 128)               32896     \n",
      "_________________________________________________________________\n",
      "dense_17 (Dense)             (None, 5)                 645       \n",
      "=================================================================\n",
      "Total params: 1,301,045\n",
      "Trainable params: 1,300,565\n",
      "Non-trainable params: 480\n",
      "_________________________________________________________________\n",
      "None\n",
      "Source path =  ../input/gesturerecognition/Project_data/train ; batch size = 64\n",
      "Epoch 1/20\n",
      "11/11 [==============================] - ETA: 0s - loss: 3.0591 - categorical_accuracy: 0.3514Source path =  ../input/gesturerecognition/Project_data/val ; batch size = 64\n",
      "11/11 [==============================] - 117s 12s/step - loss: 3.0591 - categorical_accuracy: 0.3514 - val_loss: 1.5645 - val_categorical_accuracy: 0.1700\n",
      "\n",
      "Epoch 00001: val_loss did not improve from 1.22798\n",
      "Epoch 2/20\n",
      "11/11 [==============================] - 52s 5s/step - loss: 1.1842 - categorical_accuracy: 0.5889 - val_loss: 1.5616 - val_categorical_accuracy: 0.1875\n",
      "\n",
      "Epoch 00002: val_loss did not improve from 1.22798\n",
      "Epoch 3/20\n",
      "11/11 [==============================] - 49s 5s/step - loss: 1.0003 - categorical_accuracy: 0.6561 - val_loss: 2.8724 - val_categorical_accuracy: 0.1250\n",
      "\n",
      "Epoch 00003: val_loss did not improve from 1.22798\n",
      "Epoch 4/20\n",
      "11/11 [==============================] - 42s 4s/step - loss: 0.8521 - categorical_accuracy: 0.6524 - val_loss: 5.4787 - val_categorical_accuracy: 0.1250\n",
      "\n",
      "Epoch 00004: val_loss did not improve from 1.22798\n",
      "Epoch 5/20\n",
      "11/11 [==============================] - 38s 4s/step - loss: 0.6155 - categorical_accuracy: 0.7990 - val_loss: 5.6832 - val_categorical_accuracy: 0.1875\n",
      "\n",
      "Epoch 00005: val_loss did not improve from 1.22798\n",
      "Epoch 6/20\n",
      "11/11 [==============================] - 31s 3s/step - loss: 0.6296 - categorical_accuracy: 0.7464 - val_loss: 7.3674 - val_categorical_accuracy: 0.1250\n",
      "\n",
      "Epoch 00006: val_loss did not improve from 1.22798\n",
      "\n",
      "Epoch 00006: ReduceLROnPlateau reducing learning rate to 0.00020000000949949026.\n",
      "Epoch 7/20\n",
      "11/11 [==============================] - 32s 3s/step - loss: 0.5242 - categorical_accuracy: 0.8079 - val_loss: 7.3506 - val_categorical_accuracy: 0.2500\n",
      "\n",
      "Epoch 00007: val_loss did not improve from 1.22798\n",
      "Epoch 8/20\n",
      "11/11 [==============================] - 28s 3s/step - loss: 0.2352 - categorical_accuracy: 0.9305 - val_loss: 8.9220 - val_categorical_accuracy: 0.0000e+00\n",
      "\n",
      "Epoch 00008: val_loss did not improve from 1.22798\n",
      "Epoch 9/20\n",
      "11/11 [==============================] - 30s 3s/step - loss: 0.2365 - categorical_accuracy: 0.9465 - val_loss: 7.3270 - val_categorical_accuracy: 0.1250\n",
      "\n",
      "Epoch 00009: val_loss did not improve from 1.22798\n",
      "Epoch 10/20\n",
      "11/11 [==============================] - 29s 3s/step - loss: 0.2465 - categorical_accuracy: 0.9251 - val_loss: 6.3759 - val_categorical_accuracy: 0.2500\n",
      "\n",
      "Epoch 00010: val_loss did not improve from 1.22798\n",
      "\n",
      "Epoch 00010: ReduceLROnPlateau reducing learning rate to 4.0000001899898055e-05.\n",
      "Epoch 11/20\n",
      "11/11 [==============================] - 28s 3s/step - loss: 0.2011 - categorical_accuracy: 0.9412 - val_loss: 7.0951 - val_categorical_accuracy: 0.1250\n",
      "\n",
      "Epoch 00011: val_loss did not improve from 1.22798\n",
      "Epoch 12/20\n",
      "11/11 [==============================] - 31s 3s/step - loss: 0.1805 - categorical_accuracy: 0.9626 - val_loss: 2.7674 - val_categorical_accuracy: 0.3750\n",
      "\n",
      "Epoch 00012: val_loss did not improve from 1.22798\n",
      "Epoch 00012: early stopping\n"
     ]
    }
   ],
   "source": [
    "n_frames = 20\n",
    "num_epochs = 20\n",
    "batch_size = 64\n",
    "\n",
    "img_tensor = getImgTensor(n_frames)\n",
    "train_generator = generator(train_path, train_doc, batch_size, img_tensor)\n",
    "val_generator = generator(val_path, val_doc, batch_size, img_tensor)\n",
    "\n",
    "if (num_train_sequences%batch_size) == 0:\n",
    "    steps_per_epoch = int(num_train_sequences/batch_size)\n",
    "else:\n",
    "    steps_per_epoch = (num_train_sequences//batch_size) + 1\n",
    "\n",
    "if (num_val_sequences%batch_size) == 0:\n",
    "    validation_steps = int(num_val_sequences/batch_size)\n",
    "else:\n",
    "    validation_steps = (num_val_sequences//batch_size) + 1\n",
    "    \n",
    "inputShape = (len(img_tensor[0]), img_tensor[1], img_tensor[2], img_tensor[3])\n",
    "\n",
    "model5 = Sequential([\n",
    "    Conv3D(16, make3dFilter(2), padding='same', activation='relu', input_shape=inputShape),\n",
    "    BatchNormalization(),\n",
    "    MaxPooling3D(make3dFilter(2)),\n",
    "\n",
    "    Conv3D(32, make3dFilter(2), padding='same', activation='relu'),\n",
    "    BatchNormalization(),\n",
    "    MaxPooling3D(pool_size=(2)),\n",
    "\n",
    "    Conv3D(64, make3dFilter(2), padding='same', activation='relu'),\n",
    "    BatchNormalization(),\n",
    "    MaxPooling3D(pool_size=(2)),\n",
    "\n",
    "    Conv3D(128, make3dFilter(2), padding='same', activation='relu'),\n",
    "    BatchNormalization(),\n",
    "    MaxPooling3D(pool_size=(2)),\n",
    "\n",
    "    Flatten(),\n",
    "    Dense(256, activation='relu'),\n",
    "    # BatchNormalization(),\n",
    "    # Dropout(0.3),\n",
    "\n",
    "    Dense(128, activation='relu'),\n",
    "    # BatchNormalization(),\n",
    "    # Dropout(0.2),\n",
    "\n",
    "    Dense(5, activation='softmax')\n",
    "], name=\"conv_3d5\")\n",
    "model5.compile(optimizer=tf.keras.optimizers.Adam(), loss='categorical_crossentropy', metrics=['categorical_accuracy'])\n",
    "print(model5.summary())\n",
    "\n",
    "model5_history = model5.fit_generator(train_generator, steps_per_epoch=steps_per_epoch, epochs=num_epochs, verbose=1, \n",
    "            callbacks=callbacks_list, validation_data=val_generator, \n",
    "            validation_steps=validation_steps, class_weight=None, workers=1, initial_epoch=0)"
   ]
  },
  {
   "cell_type": "code",
   "execution_count": 32,
   "id": "5950b739",
   "metadata": {
    "execution": {
     "iopub.execute_input": "2023-02-05T20:00:24.904392Z",
     "iopub.status.busy": "2023-02-05T20:00:24.903637Z",
     "iopub.status.idle": "2023-02-05T20:01:19.750684Z",
     "shell.execute_reply": "2023-02-05T20:01:19.749759Z"
    },
    "papermill": {
     "duration": 54.976889,
     "end_time": "2023-02-05T20:01:19.816132",
     "exception": false,
     "start_time": "2023-02-05T20:00:24.839243",
     "status": "completed"
    },
    "tags": []
   },
   "outputs": [
    {
     "data": {
      "image/png": "[encoded data removed]",
      "text/plain": [
       "<Figure size 1080x288 with 2 Axes>"
      ]
     },
     "metadata": {
      "needs_background": "light"
     },
     "output_type": "display_data"
    },
    {
     "name": "stdout",
     "output_type": "stream",
     "text": [
      "Max. Training Accuracy 0.9625668525695801\n",
      "Max. Validaiton Accuracy 0.375\n"
     ]
    }
   ],
   "source": [
    "plotModelHistory(model5_history)"
   ]
  },
  {
   "cell_type": "markdown",
   "id": "37af5c1e",
   "metadata": {
    "papermill": {
     "duration": 0.063027,
     "end_time": "2023-02-05T20:01:19.942619",
     "exception": false,
     "start_time": "2023-02-05T20:01:19.879592",
     "status": "completed"
    },
    "tags": []
   },
   "source": [
    "**Model 6: Switching Model architecture to Conv2D+LSTM**"
   ]
  },
  {
   "cell_type": "code",
   "execution_count": 33,
   "id": "53bc7511",
   "metadata": {
    "execution": {
     "iopub.execute_input": "2023-02-05T20:01:20.072840Z",
     "iopub.status.busy": "2023-02-05T20:01:20.070950Z",
     "iopub.status.idle": "2023-02-05T20:14:29.631119Z",
     "shell.execute_reply": "2023-02-05T20:14:29.629673Z"
    },
    "papermill": {
     "duration": 789.626518,
     "end_time": "2023-02-05T20:14:29.633362",
     "exception": false,
     "start_time": "2023-02-05T20:01:20.006844",
     "status": "completed"
    },
    "tags": []
   },
   "outputs": [
    {
     "name": "stdout",
     "output_type": "stream",
     "text": [
      "Model: \"conv_2d_lstm\"\n",
      "_________________________________________________________________\n",
      "Layer (type)                 Output Shape              Param #   \n",
      "=================================================================\n",
      "time_distributed (TimeDistri (None, 20, 100, 100, 16)  448       \n",
      "_________________________________________________________________\n",
      "time_distributed_1 (TimeDist (None, 20, 100, 100, 16)  64        \n",
      "_________________________________________________________________\n",
      "time_distributed_2 (TimeDist (None, 20, 50, 50, 16)    0         \n",
      "_________________________________________________________________\n",
      "time_distributed_3 (TimeDist (None, 20, 50, 50, 32)    4640      \n",
      "_________________________________________________________________\n",
      "time_distributed_4 (TimeDist (None, 20, 50, 50, 32)    128       \n",
      "_________________________________________________________________\n",
      "time_distributed_5 (TimeDist (None, 20, 25, 25, 32)    0         \n",
      "_________________________________________________________________\n",
      "time_distributed_6 (TimeDist (None, 20, 25, 25, 64)    18496     \n",
      "_________________________________________________________________\n",
      "time_distributed_7 (TimeDist (None, 20, 25, 25, 64)    256       \n",
      "_________________________________________________________________\n",
      "time_distributed_8 (TimeDist (None, 20, 12, 12, 64)    0         \n",
      "_________________________________________________________________\n",
      "time_distributed_9 (TimeDist (None, 20, 12, 12, 128)   73856     \n",
      "_________________________________________________________________\n",
      "time_distributed_10 (TimeDis (None, 20, 12, 12, 128)   512       \n",
      "_________________________________________________________________\n",
      "time_distributed_11 (TimeDis (None, 20, 6, 6, 128)     0         \n",
      "_________________________________________________________________\n",
      "time_distributed_12 (TimeDis (None, 20, 6, 6, 256)     295168    \n",
      "_________________________________________________________________\n",
      "time_distributed_13 (TimeDis (None, 20, 6, 6, 256)     1024      \n",
      "_________________________________________________________________\n",
      "time_distributed_14 (TimeDis (None, 20, 3, 3, 256)     0         \n",
      "_________________________________________________________________\n",
      "time_distributed_15 (TimeDis (None, 20, 2304)          0         \n",
      "_________________________________________________________________\n",
      "lstm (LSTM)                  (None, 256)               2622464   \n",
      "_________________________________________________________________\n",
      "dropout_10 (Dropout)         (None, 256)               0         \n",
      "_________________________________________________________________\n",
      "dense_18 (Dense)             (None, 256)               65792     \n",
      "_________________________________________________________________\n",
      "dropout_11 (Dropout)         (None, 256)               0         \n",
      "_________________________________________________________________\n",
      "dense_19 (Dense)             (None, 5)                 1285      \n",
      "=================================================================\n",
      "Total params: 3,084,133\n",
      "Trainable params: 3,083,141\n",
      "Non-trainable params: 992\n",
      "_________________________________________________________________\n",
      "None\n",
      "Source path =  ../input/gesturerecognition/Project_data/train ; batch size = 32\n",
      "Epoch 1/30\n",
      "21/21 [==============================] - ETA: 0s - loss: 1.3344 - categorical_accuracy: 0.4570Source path =  ../input/gesturerecognition/Project_data/val ; batch size = 32\n",
      "21/21 [==============================] - 122s 6s/step - loss: 1.3344 - categorical_accuracy: 0.4570 - val_loss: 1.7340 - val_categorical_accuracy: 0.2200\n",
      "\n",
      "Epoch 00001: val_loss did not improve from 1.22798\n",
      "Epoch 2/30\n",
      "21/21 [==============================] - 78s 4s/step - loss: 0.9878 - categorical_accuracy: 0.5983 - val_loss: 1.7318 - val_categorical_accuracy: 0.3125\n",
      "\n",
      "Epoch 00002: val_loss did not improve from 1.22798\n",
      "Epoch 3/30\n",
      "21/21 [==============================] - 68s 3s/step - loss: 0.8430 - categorical_accuracy: 0.6815 - val_loss: 2.0758 - val_categorical_accuracy: 0.1875\n",
      "\n",
      "Epoch 00003: val_loss did not improve from 1.22798\n",
      "Epoch 4/30\n",
      "21/21 [==============================] - 63s 3s/step - loss: 0.8498 - categorical_accuracy: 0.6667 - val_loss: 2.2323 - val_categorical_accuracy: 0.4375\n",
      "\n",
      "Epoch 00004: val_loss did not improve from 1.22798\n",
      "Epoch 5/30\n",
      "21/21 [==============================] - 54s 3s/step - loss: 0.7529 - categorical_accuracy: 0.7199 - val_loss: 3.4408 - val_categorical_accuracy: 0.2500\n",
      "\n",
      "Epoch 00005: val_loss did not improve from 1.22798\n",
      "Epoch 6/30\n",
      "21/21 [==============================] - 58s 3s/step - loss: 0.8551 - categorical_accuracy: 0.6471 - val_loss: 3.1072 - val_categorical_accuracy: 0.0625\n",
      "\n",
      "Epoch 00006: val_loss did not improve from 1.22798\n",
      "\n",
      "Epoch 00006: ReduceLROnPlateau reducing learning rate to 0.00020000000949949026.\n",
      "Epoch 7/30\n",
      "21/21 [==============================] - 56s 3s/step - loss: 0.6350 - categorical_accuracy: 0.7731 - val_loss: 2.4839 - val_categorical_accuracy: 0.2500\n",
      "\n",
      "Epoch 00007: val_loss did not improve from 1.22798\n",
      "Epoch 8/30\n",
      "21/21 [==============================] - 57s 3s/step - loss: 0.5202 - categorical_accuracy: 0.8095 - val_loss: 3.1700 - val_categorical_accuracy: 0.1875\n",
      "\n",
      "Epoch 00008: val_loss did not improve from 1.22798\n",
      "Epoch 9/30\n",
      "21/21 [==============================] - 58s 3s/step - loss: 0.4946 - categorical_accuracy: 0.8123 - val_loss: 3.2807 - val_categorical_accuracy: 0.1875\n",
      "\n",
      "Epoch 00009: val_loss did not improve from 1.22798\n",
      "Epoch 10/30\n",
      "21/21 [==============================] - 58s 3s/step - loss: 0.4208 - categorical_accuracy: 0.8375 - val_loss: 3.1028 - val_categorical_accuracy: 0.2500\n",
      "\n",
      "Epoch 00010: val_loss did not improve from 1.22798\n",
      "\n",
      "Epoch 00010: ReduceLROnPlateau reducing learning rate to 4.0000001899898055e-05.\n",
      "Epoch 11/30\n",
      "21/21 [==============================] - 56s 3s/step - loss: 0.3675 - categorical_accuracy: 0.8824 - val_loss: 3.1491 - val_categorical_accuracy: 0.1250\n",
      "\n",
      "Epoch 00011: val_loss did not improve from 1.22798\n",
      "Epoch 12/30\n",
      "21/21 [==============================] - 56s 3s/step - loss: 0.3741 - categorical_accuracy: 0.8711 - val_loss: 2.7259 - val_categorical_accuracy: 0.2500\n",
      "\n",
      "Epoch 00012: val_loss did not improve from 1.22798\n",
      "Epoch 00012: early stopping\n"
     ]
    }
   ],
   "source": [
    "n_frames = 20\n",
    "num_epochs = 30\n",
    "batch_size = 32\n",
    "\n",
    "img_tensor = getImgTensor(n_frames)\n",
    "train_generator = generator(train_path, train_doc, batch_size, img_tensor)\n",
    "val_generator = generator(val_path, val_doc, batch_size, img_tensor)\n",
    "\n",
    "if (num_train_sequences%batch_size) == 0:\n",
    "    steps_per_epoch = int(num_train_sequences/batch_size)\n",
    "else:\n",
    "    steps_per_epoch = (num_train_sequences//batch_size) + 1\n",
    "\n",
    "if (num_val_sequences%batch_size) == 0:\n",
    "    validation_steps = int(num_val_sequences/batch_size)\n",
    "else:\n",
    "    validation_steps = (num_val_sequences//batch_size) + 1\n",
    "    \n",
    "inputShape = (len(img_tensor[0]), img_tensor[1], img_tensor[2], img_tensor[3])\n",
    "\n",
    "model6 = Sequential([\n",
    "    TimeDistributed(Conv2D(16, make2dFilter(3), padding='same', activation='relu'), input_shape=inputShape),\n",
    "    TimeDistributed(BatchNormalization()),\n",
    "    TimeDistributed(MaxPooling2D(make2dFilter(2))),\n",
    "\n",
    "    TimeDistributed(Conv2D(32, make2dFilter(3), padding='same', activation='relu')),\n",
    "    TimeDistributed(BatchNormalization()),\n",
    "    TimeDistributed(MaxPooling2D(make2dFilter(2))),\n",
    "\n",
    "    TimeDistributed(Conv2D(64, make2dFilter(3), padding='same', activation='relu')),\n",
    "    TimeDistributed(BatchNormalization()),\n",
    "    TimeDistributed(MaxPooling2D(make2dFilter(2))),\n",
    "\n",
    "    TimeDistributed(Conv2D(128, make2dFilter(3), padding='same', activation='relu')),\n",
    "    TimeDistributed(BatchNormalization()),\n",
    "    TimeDistributed(MaxPooling2D(make2dFilter(2))),\n",
    "\n",
    "    TimeDistributed(Conv2D(256, make2dFilter(3), padding='same', activation='relu')),\n",
    "    TimeDistributed(BatchNormalization()),\n",
    "    TimeDistributed(MaxPooling2D(make2dFilter(2))),\n",
    "\n",
    "    TimeDistributed(Flatten()),\n",
    "    LSTM(256),\n",
    "    Dropout(0.2),\n",
    "\n",
    "    Dense(256, activation='relu'),\n",
    "    Dropout(0.2),\n",
    "\n",
    "    Dense(5, activation='softmax')\n",
    "], name=\"conv_2d_lstm\")\n",
    "model6.compile(optimizer=tf.keras.optimizers.Adam(), loss='categorical_crossentropy', metrics=['categorical_accuracy'])\n",
    "print(model6.summary())\n",
    "\n",
    "model6_history = model6.fit_generator(train_generator, steps_per_epoch=steps_per_epoch, epochs=num_epochs, verbose=1, \n",
    "            callbacks=callbacks_list, validation_data=val_generator, \n",
    "            validation_steps=validation_steps, class_weight=None, workers=1, initial_epoch=0)"
   ]
  },
  {
   "cell_type": "code",
   "execution_count": 34,
   "id": "26bef8dd",
   "metadata": {
    "execution": {
     "iopub.execute_input": "2023-02-05T20:14:29.793394Z",
     "iopub.status.busy": "2023-02-05T20:14:29.792711Z",
     "iopub.status.idle": "2023-02-05T20:14:49.303722Z",
     "shell.execute_reply": "2023-02-05T20:14:49.302816Z"
    },
    "papermill": {
     "duration": 19.594276,
     "end_time": "2023-02-05T20:14:49.306787",
     "exception": false,
     "start_time": "2023-02-05T20:14:29.712511",
     "status": "completed"
    },
    "tags": []
   },
   "outputs": [
    {
     "data": {
      "image/png": "[encoded data removed]",
      "text/plain": [
       "<Figure size 1080x288 with 2 Axes>"
      ]
     },
     "metadata": {
      "needs_background": "light"
     },
     "output_type": "display_data"
    },
    {
     "name": "stdout",
     "output_type": "stream",
     "text": [
      "Max. Training Accuracy 0.8823529481887817\n",
      "Max. Validaiton Accuracy 0.4375\n"
     ]
    }
   ],
   "source": [
    "plotModelHistory(model6_history)"
   ]
  },
  {
   "cell_type": "markdown",
   "id": "93870b0e",
   "metadata": {
    "papermill": {
     "duration": 0.077056,
     "end_time": "2023-02-05T20:14:49.462108",
     "exception": false,
     "start_time": "2023-02-05T20:14:49.385052",
     "status": "completed"
    },
    "tags": []
   },
   "source": [
    "# Model 7: Transfer Learning (MobileNet) with LSTM"
   ]
  },
  {
   "cell_type": "code",
   "execution_count": 35,
   "id": "cbfca201",
   "metadata": {
    "execution": {
     "iopub.execute_input": "2023-02-05T20:14:49.617973Z",
     "iopub.status.busy": "2023-02-05T20:14:49.617595Z",
     "iopub.status.idle": "2023-02-05T20:14:49.623163Z",
     "shell.execute_reply": "2023-02-05T20:14:49.622540Z"
    },
    "papermill": {
     "duration": 0.085465,
     "end_time": "2023-02-05T20:14:49.624951",
     "exception": false,
     "start_time": "2023-02-05T20:14:49.539486",
     "status": "completed"
    },
    "tags": []
   },
   "outputs": [],
   "source": [
    "from tensorflow.keras.applications import mobilenet"
   ]
  },
  {
   "cell_type": "code",
   "execution_count": 36,
   "id": "38fcd5c5",
   "metadata": {
    "execution": {
     "iopub.execute_input": "2023-02-05T20:14:49.780231Z",
     "iopub.status.busy": "2023-02-05T20:14:49.779377Z",
     "iopub.status.idle": "2023-02-05T20:26:40.113785Z",
     "shell.execute_reply": "2023-02-05T20:26:40.112557Z"
    },
    "papermill": {
     "duration": 710.414991,
     "end_time": "2023-02-05T20:26:40.116363",
     "exception": false,
     "start_time": "2023-02-05T20:14:49.701372",
     "status": "completed"
    },
    "tags": []
   },
   "outputs": [
    {
     "name": "stdout",
     "output_type": "stream",
     "text": [
      "Downloading data from https://storage.googleapis.com/tensorflow/keras-applications/mobilenet/mobilenet_1_0_224_tf_no_top.h5\n",
      "17227776/17225924 [==============================] - 1s 0us/step\n",
      "17235968/17225924 [==============================] - 1s 0us/step\n",
      "Model: \"mobilenet_lstm\"\n",
      "_________________________________________________________________\n",
      "Layer (type)                 Output Shape              Param #   \n",
      "=================================================================\n",
      "time_distributed_16 (TimeDis (None, 20, 3, 3, 1024)    3228864   \n",
      "_________________________________________________________________\n",
      "time_distributed_17 (TimeDis (None, 20, 3, 3, 1024)    4096      \n",
      "_________________________________________________________________\n",
      "time_distributed_18 (TimeDis (None, 20, 1, 1, 1024)    0         \n",
      "_________________________________________________________________\n",
      "time_distributed_19 (TimeDis (None, 20, 1024)          0         \n",
      "_________________________________________________________________\n",
      "lstm_1 (LSTM)                (None, 256)               1311744   \n",
      "_________________________________________________________________\n",
      "dropout_12 (Dropout)         (None, 256)               0         \n",
      "_________________________________________________________________\n",
      "dense_20 (Dense)             (None, 256)               65792     \n",
      "_________________________________________________________________\n",
      "dropout_13 (Dropout)         (None, 256)               0         \n",
      "_________________________________________________________________\n",
      "dense_21 (Dense)             (None, 5)                 1285      \n",
      "=================================================================\n",
      "Total params: 4,611,781\n",
      "Trainable params: 1,380,869\n",
      "Non-trainable params: 3,230,912\n",
      "_________________________________________________________________\n",
      "None\n",
      "Source path =  ../input/gesturerecognition/Project_data/train ; batch size = 64\n",
      "Epoch 1/30\n",
      "11/11 [==============================] - ETA: 0s - loss: 1.3792 - categorical_accuracy: 0.4465 Source path =  ../input/gesturerecognition/Project_data/val ; batch size = 64\n",
      "11/11 [==============================] - 128s 12s/step - loss: 1.3792 - categorical_accuracy: 0.4465 - val_loss: 0.9697 - val_categorical_accuracy: 0.6800\n",
      "\n",
      "Epoch 00001: val_loss improved from 1.22798 to 0.96972, saving model to model_init_2023-02-0519_04_02.625413/model-00001-1.37918-0.44646-0.96972-0.68000.h5\n",
      "Epoch 2/30\n",
      "11/11 [==============================] - 50s 5s/step - loss: 0.5950 - categorical_accuracy: 0.8221 - val_loss: 1.1516 - val_categorical_accuracy: 0.5625\n",
      "\n",
      "Epoch 00002: val_loss did not improve from 0.96972\n",
      "Epoch 3/30\n",
      "11/11 [==============================] - 50s 5s/step - loss: 0.6543 - categorical_accuracy: 0.7115 - val_loss: 0.7986 - val_categorical_accuracy: 0.7143\n",
      "\n",
      "Epoch 00003: val_loss improved from 0.96972 to 0.79858, saving model to model_init_2023-02-0519_04_02.625413/model-00003-0.65429-0.71146-0.79858-0.71429.h5\n",
      "Epoch 4/30\n",
      "11/11 [==============================] - 41s 4s/step - loss: 0.5066 - categorical_accuracy: 0.8197 - val_loss: 1.0239 - val_categorical_accuracy: 0.5312\n",
      "\n",
      "Epoch 00004: val_loss did not improve from 0.79858\n",
      "Epoch 5/30\n",
      "11/11 [==============================] - 38s 4s/step - loss: 0.3112 - categorical_accuracy: 0.9043 - val_loss: 1.0662 - val_categorical_accuracy: 0.6250\n",
      "\n",
      "Epoch 00005: val_loss did not improve from 0.79858\n",
      "Epoch 6/30\n",
      "11/11 [==============================] - 33s 3s/step - loss: 0.2967 - categorical_accuracy: 0.8852 - val_loss: 0.8990 - val_categorical_accuracy: 0.5000\n",
      "\n",
      "Epoch 00006: val_loss did not improve from 0.79858\n",
      "Epoch 7/30\n",
      "11/11 [==============================] - 33s 3s/step - loss: 0.1467 - categorical_accuracy: 0.9557 - val_loss: 1.5132 - val_categorical_accuracy: 0.5000\n",
      "\n",
      "Epoch 00007: val_loss did not improve from 0.79858\n",
      "\n",
      "Epoch 00007: ReduceLROnPlateau reducing learning rate to 0.00020000000949949026.\n",
      "Epoch 8/30\n",
      "11/11 [==============================] - 29s 3s/step - loss: 0.1149 - categorical_accuracy: 0.9733 - val_loss: 0.0929 - val_categorical_accuracy: 1.0000\n",
      "\n",
      "Epoch 00008: val_loss improved from 0.79858 to 0.09294, saving model to model_init_2023-02-0519_04_02.625413/model-00008-0.11495-0.97326-0.09294-1.00000.h5\n",
      "Epoch 9/30\n",
      "11/11 [==============================] - 29s 3s/step - loss: 0.0768 - categorical_accuracy: 0.9893 - val_loss: 0.8464 - val_categorical_accuracy: 0.5000\n",
      "\n",
      "Epoch 00009: val_loss did not improve from 0.09294\n",
      "Epoch 10/30\n",
      "11/11 [==============================] - 29s 3s/step - loss: 0.0656 - categorical_accuracy: 0.9947 - val_loss: 0.1208 - val_categorical_accuracy: 1.0000\n",
      "\n",
      "Epoch 00010: val_loss did not improve from 0.09294\n",
      "Epoch 11/30\n",
      "11/11 [==============================] - 31s 3s/step - loss: 0.0414 - categorical_accuracy: 1.0000 - val_loss: 0.2042 - val_categorical_accuracy: 0.8750\n",
      "\n",
      "Epoch 00011: val_loss did not improve from 0.09294\n",
      "Epoch 12/30\n",
      "11/11 [==============================] - 29s 3s/step - loss: 0.0606 - categorical_accuracy: 0.9893 - val_loss: 1.2059 - val_categorical_accuracy: 0.6250\n",
      "\n",
      "Epoch 00012: val_loss did not improve from 0.09294\n",
      "\n",
      "Epoch 00012: ReduceLROnPlateau reducing learning rate to 4.0000001899898055e-05.\n",
      "Epoch 13/30\n",
      "11/11 [==============================] - 31s 3s/step - loss: 0.0380 - categorical_accuracy: 1.0000 - val_loss: 1.5695 - val_categorical_accuracy: 0.2500\n",
      "\n",
      "Epoch 00013: val_loss did not improve from 0.09294\n",
      "Epoch 14/30\n",
      "11/11 [==============================] - 29s 3s/step - loss: 0.0411 - categorical_accuracy: 0.9947 - val_loss: 0.3474 - val_categorical_accuracy: 0.8750\n",
      "\n",
      "Epoch 00014: val_loss did not improve from 0.09294\n",
      "Epoch 15/30\n",
      "11/11 [==============================] - 29s 3s/step - loss: 0.0280 - categorical_accuracy: 1.0000 - val_loss: 0.1029 - val_categorical_accuracy: 1.0000\n",
      "\n",
      "Epoch 00015: val_loss did not improve from 0.09294\n",
      "Epoch 16/30\n",
      "11/11 [==============================] - 30s 3s/step - loss: 0.0385 - categorical_accuracy: 0.9893 - val_loss: 1.5451 - val_categorical_accuracy: 0.5000\n",
      "\n",
      "Epoch 00016: val_loss did not improve from 0.09294\n",
      "\n",
      "Epoch 00016: ReduceLROnPlateau reducing learning rate to 8.000000525498762e-06.\n",
      "Epoch 17/30\n",
      "11/11 [==============================] - 30s 3s/step - loss: 0.0417 - categorical_accuracy: 0.9893 - val_loss: 0.6406 - val_categorical_accuracy: 0.7500\n",
      "\n",
      "Epoch 00017: val_loss did not improve from 0.09294\n",
      "Epoch 18/30\n",
      "11/11 [==============================] - 28s 3s/step - loss: 0.0284 - categorical_accuracy: 1.0000 - val_loss: 0.3991 - val_categorical_accuracy: 0.7500\n",
      "\n",
      "Epoch 00018: val_loss did not improve from 0.09294\n",
      "Epoch 00018: early stopping\n"
     ]
    }
   ],
   "source": [
    "mobilenet = mobilenet.MobileNet(weights='imagenet', include_top=False)\n",
    "\n",
    "n_frames = 20\n",
    "num_epochs = 30\n",
    "batch_size = 64\n",
    "\n",
    "img_tensor = getImgTensor(n_frames)\n",
    "train_generator = generator(train_path, train_doc, batch_size, img_tensor)\n",
    "val_generator = generator(val_path, val_doc, batch_size, img_tensor)\n",
    "\n",
    "if (num_train_sequences%batch_size) == 0:\n",
    "    steps_per_epoch = int(num_train_sequences/batch_size)\n",
    "else:\n",
    "    steps_per_epoch = (num_train_sequences//batch_size) + 1\n",
    "\n",
    "if (num_val_sequences%batch_size) == 0:\n",
    "    validation_steps = int(num_val_sequences/batch_size)\n",
    "else:\n",
    "    validation_steps = (num_val_sequences//batch_size) + 1\n",
    "    \n",
    "inputShape = (len(img_tensor[0]), img_tensor[1], img_tensor[2], img_tensor[3])\n",
    "\n",
    "model7 = Sequential([\n",
    "    TimeDistributed(mobilenet, input_shape=inputShape)\n",
    "], name=\"mobilenet_lstm\")\n",
    "\n",
    "for layer in model7.layers:\n",
    "    layer.trainable = False\n",
    "\n",
    "model7.add(TimeDistributed(BatchNormalization()))\n",
    "model7.add(TimeDistributed(MaxPooling2D(make2dFilter(2))))\n",
    "model7.add(TimeDistributed(Flatten()))\n",
    "\n",
    "model7.add(LSTM(256))\n",
    "model7.add(Dropout(0.2))\n",
    "\n",
    "model7.add(Dense(256,activation='relu'))\n",
    "model7.add(Dropout(0.2))\n",
    "\n",
    "model7.add(Dense(5, activation='softmax'))\n",
    "\n",
    "model7.compile(optimizer=tf.keras.optimizers.Adam(), loss='categorical_crossentropy', metrics=['categorical_accuracy'])\n",
    "print(model7.summary())\n",
    "\n",
    "model7_history = model7.fit_generator(train_generator, steps_per_epoch=steps_per_epoch, epochs=num_epochs, verbose=1, \n",
    "            callbacks=callbacks_list, validation_data=val_generator, \n",
    "            validation_steps=validation_steps, class_weight=None, workers=1, initial_epoch=0)"
   ]
  },
  {
   "cell_type": "code",
   "execution_count": 37,
   "id": "ce9f804c",
   "metadata": {
    "execution": {
     "iopub.execute_input": "2023-02-05T20:26:40.410807Z",
     "iopub.status.busy": "2023-02-05T20:26:40.410174Z",
     "iopub.status.idle": "2023-02-05T20:27:26.197729Z",
     "shell.execute_reply": "2023-02-05T20:27:26.196792Z"
    },
    "papermill": {
     "duration": 46.017812,
     "end_time": "2023-02-05T20:27:26.292338",
     "exception": false,
     "start_time": "2023-02-05T20:26:40.274526",
     "status": "completed"
    },
    "tags": []
   },
   "outputs": [
    {
     "data": {
      "image/png": "[encoded data removed]",
      "text/plain": [
       "<Figure size 1080x288 with 2 Axes>"
      ]
     },
     "metadata": {
      "needs_background": "light"
     },
     "output_type": "display_data"
    },
    {
     "name": "stdout",
     "output_type": "stream",
     "text": [
      "Max. Training Accuracy 1.0\n",
      "Max. Validaiton Accuracy 1.0\n"
     ]
    }
   ],
   "source": [
    "plotModelHistory(model7_history)"
   ]
  }
 ],
 "metadata": {
  "kernelspec": {
   "display_name": "Python 3",
   "language": "python",
   "name": "python3"
  },
  "language_info": {
   "codemirror_mode": {
    "name": "ipython",
    "version": 3
   },
   "file_extension": ".py",
   "mimetype": "text/x-python",
   "name": "python",
   "nbconvert_exporter": "python",
   "pygments_lexer": "ipython3",
   "version": "3.7.12"
  },
  "papermill": {
   "default_parameters": {},
   "duration": 5023.65646,
   "end_time": "2023-02-05T20:27:29.838945",
   "environment_variables": {},
   "exception": null,
   "input_path": "__notebook__.ipynb",
   "output_path": "__notebook__.ipynb",
   "parameters": {},
   "start_time": "2023-02-05T19:03:46.182485",
   "version": "2.3.4"
  }
 },
 "nbformat": 4,
 "nbformat_minor": 5
}
